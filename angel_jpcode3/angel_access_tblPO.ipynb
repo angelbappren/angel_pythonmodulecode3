{
 "cells": [
  {
   "cell_type": "code",
   "execution_count": 56,
   "id": "4fc2653b",
   "metadata": {},
   "outputs": [],
   "source": [
    "import pandas as pd\n",
    "import numpy as np"
   ]
  },
  {
   "cell_type": "code",
   "execution_count": 38,
   "id": "df13ca24",
   "metadata": {},
   "outputs": [],
   "source": [
    "# extract \n",
    "\n",
    "ld_add = pd.Timestamp.today()\n",
    "\n",
    "tblpo_2023 = pd.ExcelFile(r\"C:\\Users\\angel\\OneDrive\\Documents\\Multiverse DS ADF 2\\Module 3\\Module 3 - Portfolio Project\\Access data\\tblPO-jan-dec-2023-export-11-08-2025.xlsx\")\n",
    "tblpo_2024 = pd.ExcelFile(r\"C:\\Users\\angel\\OneDrive\\Documents\\Multiverse DS ADF 2\\Module 3\\Module 3 - Portfolio Project\\Access data\\tblPO-jan-dec-2024-export-11-08-2025.xlsx\")\n",
    "tblpo_2025 = pd.ExcelFile(r\"C:\\Users\\angel\\OneDrive\\Documents\\Multiverse DS ADF 2\\Module 3\\Module 3 - Portfolio Project\\Access data\\tblPO-jan-dec-2025-export-11-08-2025.xlsx\")\n",
    "\n",
    "access_tblpo_2023 = pd.read_excel(tblpo_2023, \"tblPO\")\n",
    "access_tblpo_2024 = pd.read_excel(tblpo_2024, \"tblPO\")\n",
    "access_tblpo_2025 = pd.read_excel(tblpo_2025, \"tblPO\")\n",
    "\n"
   ]
  },
  {
   "cell_type": "code",
   "execution_count": 39,
   "id": "629041be",
   "metadata": {},
   "outputs": [],
   "source": [
    "#access_tblpo_2023.insert(0, \"row_num\", access_tblpo_2023.index + 1)\n",
    "#access_tblpo_2023.insert(1, \"batch_load\", ld_add)"
   ]
  },
  {
   "cell_type": "code",
   "execution_count": 40,
   "id": "3f94c860",
   "metadata": {},
   "outputs": [
    {
     "data": {
      "text/plain": [
       "(758, 9)"
      ]
     },
     "execution_count": 40,
     "metadata": {},
     "output_type": "execute_result"
    }
   ],
   "source": [
    "access_tblpo_2023.shape"
   ]
  },
  {
   "cell_type": "code",
   "execution_count": 41,
   "id": "bbb33b15",
   "metadata": {},
   "outputs": [
    {
     "data": {
      "text/plain": [
       "POID                       int64\n",
       "PONumber                  object\n",
       "ProjectID                  int64\n",
       "RaisedBy                  object\n",
       "Site                      object\n",
       "Notes                     object\n",
       "SSMA_TimeStamp           float64\n",
       "DateCreated       datetime64[ns]\n",
       "Alemba                    object\n",
       "dtype: object"
      ]
     },
     "execution_count": 41,
     "metadata": {},
     "output_type": "execute_result"
    }
   ],
   "source": [
    "access_tblpo_2023.dtypes"
   ]
  },
  {
   "cell_type": "code",
   "execution_count": 51,
   "id": "e74cc1d2",
   "metadata": {},
   "outputs": [
    {
     "data": {
      "text/plain": [
       "758"
      ]
     },
     "execution_count": 51,
     "metadata": {},
     "output_type": "execute_result"
    }
   ],
   "source": [
    "access_tblpo_2023[\"SSMA_TimeStamp\"].isna().sum()"
   ]
  },
  {
   "cell_type": "code",
   "execution_count": 52,
   "id": "306d34f5",
   "metadata": {},
   "outputs": [
    {
     "data": {
      "text/plain": [
       "631"
      ]
     },
     "execution_count": 52,
     "metadata": {},
     "output_type": "execute_result"
    }
   ],
   "source": [
    "access_tblpo_2024[\"SSMA_TimeStamp\"].isna().sum()"
   ]
  },
  {
   "cell_type": "code",
   "execution_count": 53,
   "id": "92bc80d8",
   "metadata": {},
   "outputs": [
    {
     "data": {
      "text/plain": [
       "295"
      ]
     },
     "execution_count": 53,
     "metadata": {},
     "output_type": "execute_result"
    }
   ],
   "source": [
    "access_tblpo_2025[\"SSMA_TimeStamp\"].isna().sum()"
   ]
  },
  {
   "cell_type": "code",
   "execution_count": 35,
   "id": "e3f1eab9",
   "metadata": {},
   "outputs": [],
   "source": [
    "access_tblpo_2023.insert(1, \"batch_load\", ld_add)\n",
    "access_tblpo_2024.insert(1, \"batch_load\", ld_add)\n",
    "access_tblpo_2025.insert(1, \"batch_load\", ld_add)"
   ]
  },
  {
   "cell_type": "code",
   "execution_count": 44,
   "id": "cb10afab",
   "metadata": {},
   "outputs": [],
   "source": [
    "access_tblpo_23_25 = pd.concat([access_tblpo_2023, access_tblpo_2024, access_tblpo_2025], ignore_index=True)"
   ]
  },
  {
   "cell_type": "code",
   "execution_count": 45,
   "id": "314851b0",
   "metadata": {},
   "outputs": [],
   "source": [
    "access_tblpo_23_25.insert(1, \"batch_load\", ld_add)"
   ]
  },
  {
   "cell_type": "code",
   "execution_count": 46,
   "id": "ec08cd6d",
   "metadata": {},
   "outputs": [],
   "source": [
    "parsed_access_tblpo_23_25 = access_tblpo_23_25.copy()"
   ]
  },
  {
   "cell_type": "code",
   "execution_count": 55,
   "id": "388b4263",
   "metadata": {},
   "outputs": [
    {
     "data": {
      "text/plain": [
       "POID                       int64\n",
       "batch_load        datetime64[us]\n",
       "PONumber                  object\n",
       "ProjectID                  int64\n",
       "RaisedBy                  object\n",
       "Site                      object\n",
       "Notes                     object\n",
       "SSMA_TimeStamp           float64\n",
       "DateCreated       datetime64[ns]\n",
       "Alemba                    object\n",
       "dtype: object"
      ]
     },
     "execution_count": 55,
     "metadata": {},
     "output_type": "execute_result"
    }
   ],
   "source": [
    "parsed_access_tblpo_23_25.dtypes"
   ]
  },
  {
   "cell_type": "code",
   "execution_count": 58,
   "id": "bd7a147a",
   "metadata": {},
   "outputs": [],
   "source": [
    "parsed_access_tblpo_23_25[\"PONumber\"] = parsed_access_tblpo_23_25[\"PONumber\"].str.strip().replace(\"\", np.nan)\n",
    "parsed_access_tblpo_23_25[\"RaisedBy\"] = parsed_access_tblpo_23_25[\"RaisedBy\"].str.strip().replace(\"\", np.nan)\n",
    "parsed_access_tblpo_23_25[\"Site\"] = parsed_access_tblpo_23_25[\"Site\"].str.strip().replace(\"\", np.nan)\n",
    "parsed_access_tblpo_23_25[\"Notes\"] = parsed_access_tblpo_23_25[\"Notes\"].str.strip().replace(\"\", np.nan)\n",
    "parsed_access_tblpo_23_25[\"Alemba\"] = parsed_access_tblpo_23_25[\"Alemba\"].str.strip().replace(\"\", np.nan)"
   ]
  },
  {
   "cell_type": "code",
   "execution_count": 60,
   "id": "b67922a9",
   "metadata": {},
   "outputs": [
    {
     "data": {
      "text/plain": [
       "Index(['POID', 'batch_load', 'PONumber', 'ProjectID', 'RaisedBy', 'Site',\n",
       "       'Notes', 'SSMA_TimeStamp', 'DateCreated', 'Alemba'],\n",
       "      dtype='object')"
      ]
     },
     "execution_count": 60,
     "metadata": {},
     "output_type": "execute_result"
    }
   ],
   "source": [
    "parsed_access_tblpo_23_25.columns"
   ]
  },
  {
   "cell_type": "code",
   "execution_count": null,
   "id": "ff4aa8c3",
   "metadata": {},
   "outputs": [],
   "source": [
    "import datetime\n",
    "\n",
    "mandatory_fields = [\"POID\", \"PONumber\", \"RaisedBy\", \"Site\", \"Notes\", \"DateCreated\", \"Alemba\"]\n",
    "source_system = \"ACCESS\"\n",
    "system_table = \"tblPO\"\n",
    "data_period = \"23-24 to 24-25\"\n",
    "date_checked = datetime.date.today()\n",
    "\n",
    "\n",
    "sites = [\"RLH\", \"WCH\", \"SBH\", \"MEH\", \"NUH\", \"WXH\"]"
   ]
  }
 ],
 "metadata": {
  "kernelspec": {
   "display_name": "base",
   "language": "python",
   "name": "python3"
  },
  "language_info": {
   "codemirror_mode": {
    "name": "ipython",
    "version": 3
   },
   "file_extension": ".py",
   "mimetype": "text/x-python",
   "name": "python",
   "nbconvert_exporter": "python",
   "pygments_lexer": "ipython3",
   "version": "3.11.5"
  }
 },
 "nbformat": 4,
 "nbformat_minor": 5
}
