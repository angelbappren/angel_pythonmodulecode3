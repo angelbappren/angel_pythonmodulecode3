{
 "cells": [
  {
   "cell_type": "code",
   "execution_count": 56,
   "id": "4fc2653b",
   "metadata": {},
   "outputs": [],
   "source": [
    "import pandas as pd\n",
    "import numpy as np"
   ]
  },
  {
   "cell_type": "code",
   "execution_count": 38,
   "id": "df13ca24",
   "metadata": {},
   "outputs": [],
   "source": [
    "# extract \n",
    "\n",
    "ld_add = pd.Timestamp.today()\n",
    "\n",
    "tblpo_2023 = pd.ExcelFile(r\"C:\\Users\\angel\\OneDrive\\Documents\\Multiverse DS ADF 2\\Module 3\\Module 3 - Portfolio Project\\Access data\\tblPO-jan-dec-2023-export-11-08-2025.xlsx\")\n",
    "tblpo_2024 = pd.ExcelFile(r\"C:\\Users\\angel\\OneDrive\\Documents\\Multiverse DS ADF 2\\Module 3\\Module 3 - Portfolio Project\\Access data\\tblPO-jan-dec-2024-export-11-08-2025.xlsx\")\n",
    "tblpo_2025 = pd.ExcelFile(r\"C:\\Users\\angel\\OneDrive\\Documents\\Multiverse DS ADF 2\\Module 3\\Module 3 - Portfolio Project\\Access data\\tblPO-jan-dec-2025-export-11-08-2025.xlsx\")\n",
    "\n",
    "access_tblpo_2023 = pd.read_excel(tblpo_2023, \"tblPO\")\n",
    "access_tblpo_2024 = pd.read_excel(tblpo_2024, \"tblPO\")\n",
    "access_tblpo_2025 = pd.read_excel(tblpo_2025, \"tblPO\")\n",
    "\n"
   ]
  },
  {
   "cell_type": "code",
   "execution_count": 39,
   "id": "629041be",
   "metadata": {},
   "outputs": [],
   "source": [
    "#access_tblpo_2023.insert(0, \"row_num\", access_tblpo_2023.index + 1)\n",
    "#access_tblpo_2023.insert(1, \"batch_load\", ld_add)"
   ]
  },
  {
   "cell_type": "code",
   "execution_count": 40,
   "id": "3f94c860",
   "metadata": {},
   "outputs": [
    {
     "data": {
      "text/plain": [
       "(758, 9)"
      ]
     },
     "execution_count": 40,
     "metadata": {},
     "output_type": "execute_result"
    }
   ],
   "source": [
    "access_tblpo_2023.shape"
   ]
  },
  {
   "cell_type": "code",
   "execution_count": 41,
   "id": "bbb33b15",
   "metadata": {},
   "outputs": [
    {
     "data": {
      "text/plain": [
       "POID                       int64\n",
       "PONumber                  object\n",
       "ProjectID                  int64\n",
       "RaisedBy                  object\n",
       "Site                      object\n",
       "Notes                     object\n",
       "SSMA_TimeStamp           float64\n",
       "DateCreated       datetime64[ns]\n",
       "Alemba                    object\n",
       "dtype: object"
      ]
     },
     "execution_count": 41,
     "metadata": {},
     "output_type": "execute_result"
    }
   ],
   "source": [
    "access_tblpo_2023.dtypes"
   ]
  },
  {
   "cell_type": "code",
   "execution_count": 51,
   "id": "e74cc1d2",
   "metadata": {},
   "outputs": [
    {
     "data": {
      "text/plain": [
       "758"
      ]
     },
     "execution_count": 51,
     "metadata": {},
     "output_type": "execute_result"
    }
   ],
   "source": [
    "access_tblpo_2023[\"SSMA_TimeStamp\"].isna().sum()"
   ]
  },
  {
   "cell_type": "code",
   "execution_count": 52,
   "id": "306d34f5",
   "metadata": {},
   "outputs": [
    {
     "data": {
      "text/plain": [
       "631"
      ]
     },
     "execution_count": 52,
     "metadata": {},
     "output_type": "execute_result"
    }
   ],
   "source": [
    "access_tblpo_2024[\"SSMA_TimeStamp\"].isna().sum()"
   ]
  },
  {
   "cell_type": "code",
   "execution_count": 53,
   "id": "92bc80d8",
   "metadata": {},
   "outputs": [
    {
     "data": {
      "text/plain": [
       "295"
      ]
     },
     "execution_count": 53,
     "metadata": {},
     "output_type": "execute_result"
    }
   ],
   "source": [
    "access_tblpo_2025[\"SSMA_TimeStamp\"].isna().sum()"
   ]
  },
  {
   "cell_type": "code",
   "execution_count": 35,
   "id": "e3f1eab9",
   "metadata": {},
   "outputs": [],
   "source": [
    "access_tblpo_2023.insert(1, \"batch_load\", ld_add)\n",
    "access_tblpo_2024.insert(1, \"batch_load\", ld_add)\n",
    "access_tblpo_2025.insert(1, \"batch_load\", ld_add)"
   ]
  },
  {
   "cell_type": "code",
   "execution_count": 44,
   "id": "cb10afab",
   "metadata": {},
   "outputs": [],
   "source": [
    "access_tblpo_23_25 = pd.concat([access_tblpo_2023, access_tblpo_2024, access_tblpo_2025], ignore_index=True)"
   ]
  },
  {
   "cell_type": "code",
   "execution_count": 45,
   "id": "314851b0",
   "metadata": {},
   "outputs": [],
   "source": [
    "access_tblpo_23_25.insert(1, \"batch_load\", ld_add)"
   ]
  },
  {
   "cell_type": "code",
   "execution_count": 46,
   "id": "ec08cd6d",
   "metadata": {},
   "outputs": [],
   "source": [
    "parsed_access_tblpo_23_25 = access_tblpo_23_25.copy()"
   ]
  },
  {
   "cell_type": "code",
   "execution_count": 55,
   "id": "388b4263",
   "metadata": {},
   "outputs": [
    {
     "data": {
      "text/plain": [
       "POID                       int64\n",
       "batch_load        datetime64[us]\n",
       "PONumber                  object\n",
       "ProjectID                  int64\n",
       "RaisedBy                  object\n",
       "Site                      object\n",
       "Notes                     object\n",
       "SSMA_TimeStamp           float64\n",
       "DateCreated       datetime64[ns]\n",
       "Alemba                    object\n",
       "dtype: object"
      ]
     },
     "execution_count": 55,
     "metadata": {},
     "output_type": "execute_result"
    }
   ],
   "source": [
    "parsed_access_tblpo_23_25.dtypes"
   ]
  },
  {
   "cell_type": "code",
   "execution_count": 58,
   "id": "bd7a147a",
   "metadata": {},
   "outputs": [],
   "source": [
    "parsed_access_tblpo_23_25[\"PONumber\"] = parsed_access_tblpo_23_25[\"PONumber\"].str.strip().replace(\"\", np.nan)\n",
    "parsed_access_tblpo_23_25[\"RaisedBy\"] = parsed_access_tblpo_23_25[\"RaisedBy\"].str.strip().replace(\"\", np.nan)\n",
    "parsed_access_tblpo_23_25[\"Site\"] = parsed_access_tblpo_23_25[\"Site\"].str.strip().replace(\"\", np.nan)\n",
    "parsed_access_tblpo_23_25[\"Notes\"] = parsed_access_tblpo_23_25[\"Notes\"].str.strip().replace(\"\", np.nan)\n",
    "parsed_access_tblpo_23_25[\"Alemba\"] = parsed_access_tblpo_23_25[\"Alemba\"].str.strip().replace(\"\", np.nan)"
   ]
  },
  {
   "cell_type": "code",
   "execution_count": 59,
   "id": "79eebca2",
   "metadata": {},
   "outputs": [
    {
     "data": {
      "text/html": [
       "<div>\n",
       "<style scoped>\n",
       "    .dataframe tbody tr th:only-of-type {\n",
       "        vertical-align: middle;\n",
       "    }\n",
       "\n",
       "    .dataframe tbody tr th {\n",
       "        vertical-align: top;\n",
       "    }\n",
       "\n",
       "    .dataframe thead th {\n",
       "        text-align: right;\n",
       "    }\n",
       "</style>\n",
       "<table border=\"1\" class=\"dataframe\">\n",
       "  <thead>\n",
       "    <tr style=\"text-align: right;\">\n",
       "      <th></th>\n",
       "      <th>POID</th>\n",
       "      <th>batch_load</th>\n",
       "      <th>PONumber</th>\n",
       "      <th>ProjectID</th>\n",
       "      <th>RaisedBy</th>\n",
       "      <th>Site</th>\n",
       "      <th>Notes</th>\n",
       "      <th>SSMA_TimeStamp</th>\n",
       "      <th>DateCreated</th>\n",
       "      <th>Alemba</th>\n",
       "    </tr>\n",
       "  </thead>\n",
       "  <tbody>\n",
       "    <tr>\n",
       "      <th>0</th>\n",
       "      <td>1</td>\n",
       "      <td>2025-08-15 17:57:00.771785</td>\n",
       "      <td>34</td>\n",
       "      <td>4</td>\n",
       "      <td>11</td>\n",
       "      <td>ALL s</td>\n",
       "      <td>Test</td>\n",
       "      <td>NaN</td>\n",
       "      <td>2023-03-29 11:01:06.620</td>\n",
       "      <td>NaN</td>\n",
       "    </tr>\n",
       "    <tr>\n",
       "      <th>1</th>\n",
       "      <td>2</td>\n",
       "      <td>2025-08-15 17:57:00.771785</td>\n",
       "      <td>PO1234444</td>\n",
       "      <td>4</td>\n",
       "      <td>Chris Riley</td>\n",
       "      <td>1</td>\n",
       "      <td>Test</td>\n",
       "      <td>NaN</td>\n",
       "      <td>2023-03-29 11:01:06.620</td>\n",
       "      <td>NaN</td>\n",
       "    </tr>\n",
       "    <tr>\n",
       "      <th>2</th>\n",
       "      <td>16</td>\n",
       "      <td>2025-08-15 17:57:00.771785</td>\n",
       "      <td>40645512</td>\n",
       "      <td>6</td>\n",
       "      <td>NaN</td>\n",
       "      <td>RLH</td>\n",
       "      <td>NaN</td>\n",
       "      <td>NaN</td>\n",
       "      <td>2023-03-29 11:01:06.620</td>\n",
       "      <td>NaN</td>\n",
       "    </tr>\n",
       "    <tr>\n",
       "      <th>3</th>\n",
       "      <td>17</td>\n",
       "      <td>2025-08-15 17:57:00.771785</td>\n",
       "      <td>Unknown M715</td>\n",
       "      <td>8</td>\n",
       "      <td>NaN</td>\n",
       "      <td>NaN</td>\n",
       "      <td>NaN</td>\n",
       "      <td>NaN</td>\n",
       "      <td>2023-03-29 11:01:06.620</td>\n",
       "      <td>NaN</td>\n",
       "    </tr>\n",
       "    <tr>\n",
       "      <th>4</th>\n",
       "      <td>18</td>\n",
       "      <td>2025-08-15 17:57:00.771785</td>\n",
       "      <td>RHLNet-10022021</td>\n",
       "      <td>19</td>\n",
       "      <td>NaN</td>\n",
       "      <td>NaN</td>\n",
       "      <td>NaN</td>\n",
       "      <td>NaN</td>\n",
       "      <td>2023-03-29 11:01:06.620</td>\n",
       "      <td>NaN</td>\n",
       "    </tr>\n",
       "    <tr>\n",
       "      <th>...</th>\n",
       "      <td>...</td>\n",
       "      <td>...</td>\n",
       "      <td>...</td>\n",
       "      <td>...</td>\n",
       "      <td>...</td>\n",
       "      <td>...</td>\n",
       "      <td>...</td>\n",
       "      <td>...</td>\n",
       "      <td>...</td>\n",
       "      <td>...</td>\n",
       "    </tr>\n",
       "    <tr>\n",
       "      <th>1679</th>\n",
       "      <td>2696</td>\n",
       "      <td>2025-08-15 17:57:00.771785</td>\n",
       "      <td>41178130</td>\n",
       "      <td>38</td>\n",
       "      <td>NAZ</td>\n",
       "      <td>NaN</td>\n",
       "      <td>Replacement device</td>\n",
       "      <td>NaN</td>\n",
       "      <td>2025-08-08 00:00:00.000</td>\n",
       "      <td>2926824</td>\n",
       "    </tr>\n",
       "    <tr>\n",
       "      <th>1680</th>\n",
       "      <td>2697</td>\n",
       "      <td>2025-08-15 17:57:00.771785</td>\n",
       "      <td>41178650</td>\n",
       "      <td>38</td>\n",
       "      <td>NAZ</td>\n",
       "      <td>NaN</td>\n",
       "      <td>NaN</td>\n",
       "      <td>NaN</td>\n",
       "      <td>2025-08-08 00:00:00.000</td>\n",
       "      <td>2915050</td>\n",
       "    </tr>\n",
       "    <tr>\n",
       "      <th>1681</th>\n",
       "      <td>2698</td>\n",
       "      <td>2025-08-15 17:57:00.771785</td>\n",
       "      <td>41178649</td>\n",
       "      <td>38</td>\n",
       "      <td>Naz</td>\n",
       "      <td>NaN</td>\n",
       "      <td>NaN</td>\n",
       "      <td>NaN</td>\n",
       "      <td>2025-08-08 00:00:00.000</td>\n",
       "      <td>2914837</td>\n",
       "    </tr>\n",
       "    <tr>\n",
       "      <th>1682</th>\n",
       "      <td>2699</td>\n",
       "      <td>2025-08-15 17:57:00.771785</td>\n",
       "      <td>41177905</td>\n",
       "      <td>38</td>\n",
       "      <td>Johura</td>\n",
       "      <td>RLH</td>\n",
       "      <td>x1 Samsung A16 5G for Francesca Boote for Band...</td>\n",
       "      <td>NaN</td>\n",
       "      <td>2025-08-08 00:00:00.000</td>\n",
       "      <td>2945915</td>\n",
       "    </tr>\n",
       "    <tr>\n",
       "      <th>1683</th>\n",
       "      <td>2700</td>\n",
       "      <td>2025-08-15 17:57:00.771785</td>\n",
       "      <td>41178651</td>\n",
       "      <td>38</td>\n",
       "      <td>NAZ</td>\n",
       "      <td>NaN</td>\n",
       "      <td>NaN</td>\n",
       "      <td>NaN</td>\n",
       "      <td>2025-08-08 00:00:00.000</td>\n",
       "      <td>2915123</td>\n",
       "    </tr>\n",
       "  </tbody>\n",
       "</table>\n",
       "<p>1684 rows × 10 columns</p>\n",
       "</div>"
      ],
      "text/plain": [
       "      POID                 batch_load         PONumber  ProjectID  \\\n",
       "0        1 2025-08-15 17:57:00.771785               34          4   \n",
       "1        2 2025-08-15 17:57:00.771785        PO1234444          4   \n",
       "2       16 2025-08-15 17:57:00.771785         40645512          6   \n",
       "3       17 2025-08-15 17:57:00.771785     Unknown M715          8   \n",
       "4       18 2025-08-15 17:57:00.771785  RHLNet-10022021         19   \n",
       "...    ...                        ...              ...        ...   \n",
       "1679  2696 2025-08-15 17:57:00.771785         41178130         38   \n",
       "1680  2697 2025-08-15 17:57:00.771785         41178650         38   \n",
       "1681  2698 2025-08-15 17:57:00.771785         41178649         38   \n",
       "1682  2699 2025-08-15 17:57:00.771785         41177905         38   \n",
       "1683  2700 2025-08-15 17:57:00.771785         41178651         38   \n",
       "\n",
       "         RaisedBy   Site                                              Notes  \\\n",
       "0              11  ALL s                                               Test   \n",
       "1     Chris Riley      1                                               Test   \n",
       "2             NaN    RLH                                                NaN   \n",
       "3             NaN    NaN                                                NaN   \n",
       "4             NaN    NaN                                                NaN   \n",
       "...           ...    ...                                                ...   \n",
       "1679          NAZ    NaN                                 Replacement device   \n",
       "1680          NAZ    NaN                                                NaN   \n",
       "1681          Naz    NaN                                                NaN   \n",
       "1682       Johura    RLH  x1 Samsung A16 5G for Francesca Boote for Band...   \n",
       "1683          NAZ    NaN                                                NaN   \n",
       "\n",
       "      SSMA_TimeStamp             DateCreated   Alemba  \n",
       "0                NaN 2023-03-29 11:01:06.620      NaN  \n",
       "1                NaN 2023-03-29 11:01:06.620      NaN  \n",
       "2                NaN 2023-03-29 11:01:06.620      NaN  \n",
       "3                NaN 2023-03-29 11:01:06.620      NaN  \n",
       "4                NaN 2023-03-29 11:01:06.620      NaN  \n",
       "...              ...                     ...      ...  \n",
       "1679             NaN 2025-08-08 00:00:00.000  2926824  \n",
       "1680             NaN 2025-08-08 00:00:00.000  2915050  \n",
       "1681             NaN 2025-08-08 00:00:00.000  2914837  \n",
       "1682             NaN 2025-08-08 00:00:00.000  2945915  \n",
       "1683             NaN 2025-08-08 00:00:00.000  2915123  \n",
       "\n",
       "[1684 rows x 10 columns]"
      ]
     },
     "execution_count": 59,
     "metadata": {},
     "output_type": "execute_result"
    }
   ],
   "source": [
    "parsed_access_tblpo_23_25"
   ]
  }
 ],
 "metadata": {
  "kernelspec": {
   "display_name": "base",
   "language": "python",
   "name": "python3"
  },
  "language_info": {
   "codemirror_mode": {
    "name": "ipython",
    "version": 3
   },
   "file_extension": ".py",
   "mimetype": "text/x-python",
   "name": "python",
   "nbconvert_exporter": "python",
   "pygments_lexer": "ipython3",
   "version": "3.11.5"
  }
 },
 "nbformat": 4,
 "nbformat_minor": 5
}
