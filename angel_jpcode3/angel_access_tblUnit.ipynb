{
 "cells": [
  {
   "cell_type": "code",
   "execution_count": 2,
   "id": "c378f91e",
   "metadata": {},
   "outputs": [],
   "source": [
    "import pandas as pd\n",
    "import numpy as np"
   ]
  },
  {
   "cell_type": "code",
   "execution_count": 3,
   "id": "6228d872",
   "metadata": {},
   "outputs": [],
   "source": [
    "# extract \n",
    "\n",
    "ld_add = pd.Timestamp.today()\n",
    "\n",
    "\n",
    "tblUnit_2023 = pd.ExcelFile(r\"C:\\Users\\angel\\OneDrive\\Documents\\Multiverse DS ADF 2\\Module 3\\Module 3 - Portfolio Project\\Access data\\tblUnit-jan-dec-2023-export-11-08-2025.xlsx\")\n",
    "tblUnit_2024 = pd.ExcelFile(r\"C:\\Users\\angel\\OneDrive\\Documents\\Multiverse DS ADF 2\\Module 3\\Module 3 - Portfolio Project\\Access data\\tblUnit-jan-dec-2024-export-11-08-2025.xlsx\")\n",
    "tblUnit_2025 = pd.ExcelFile(r\"C:\\Users\\angel\\OneDrive\\Documents\\Multiverse DS ADF 2\\Module 3\\Module 3 - Portfolio Project\\Access data\\tblUnit-jan-aug-2025-export-11-08-2025.xlsx\")\n",
    "\n",
    "access_tblUnit_2023 = pd.read_excel(tblUnit_2023, \"tblUnit\")\n",
    "access_tblUnit_2024 = pd.read_excel(tblUnit_2024, \"tblUnit\")\n",
    "access_tblUnit_2025 = pd.read_excel(tblUnit_2025, \"tblUnit\")"
   ]
  },
  {
   "cell_type": "code",
   "execution_count": 4,
   "id": "5121f947",
   "metadata": {},
   "outputs": [],
   "source": [
    "access_tblUnit_2023.insert(1, \"batch_load\", ld_add)\n",
    "access_tblUnit_2024.insert(1, \"batch_load\", ld_add)\n",
    "access_tblUnit_2025.insert(1, \"batch_load\", ld_add)"
   ]
  },
  {
   "cell_type": "code",
   "execution_count": 5,
   "id": "2f0f15e1",
   "metadata": {},
   "outputs": [],
   "source": [
    "access_tblunit_23_25 = pd.concat([access_tblUnit_2023, access_tblUnit_2024, access_tblUnit_2025], ignore_index=True)"
   ]
  },
  {
   "cell_type": "code",
   "execution_count": 6,
   "id": "7d5f5b6b",
   "metadata": {},
   "outputs": [],
   "source": [
    "parsed_access_tblunit_23_25 = access_tblunit_23_25.copy()"
   ]
  },
  {
   "cell_type": "code",
   "execution_count": 7,
   "id": "31aaf0a2",
   "metadata": {},
   "outputs": [
    {
     "data": {
      "text/plain": [
       "Index(['UnitID', 'batch_load', 'ProductID', 'POID', 'StoreID', 'SubStoreID',\n",
       "       'RequestID', 'TransferID', 'Status', 'SerialNumber', 'DateRecieved',\n",
       "       'UnitBarcode', 'AssetNumber', 'New', 'Accessories', 'OutDate',\n",
       "       'OutProjectID', 'OutPOID', 'OutNotes', 'SSMA_TimeStamp',\n",
       "       'AllocatedUser', 'LastAudit', 'DateCreated', 'IMEI_1', 'IMEI_2',\n",
       "       'MobilePhone'],\n",
       "      dtype='object')"
      ]
     },
     "execution_count": 7,
     "metadata": {},
     "output_type": "execute_result"
    }
   ],
   "source": [
    "parsed_access_tblunit_23_25.columns"
   ]
  },
  {
   "cell_type": "code",
   "execution_count": 8,
   "id": "9d0c0346",
   "metadata": {},
   "outputs": [],
   "source": [
    "dropcs = [\"StoreID\", \"SubStoreID\", \"TransferID\", \"UnitBarcode\", \"New\", \"Accessories\", \"OutDate\", \"OutProjectID\", \"OutPOID\", \"OutNotes\", \"SSMA_TimeStamp\", \"LastAudit\"]\n",
    "\n",
    "\n",
    "parsed_access_tblunit_23_25 = parsed_access_tblunit_23_25.drop(columns=dropcs)"
   ]
  },
  {
   "cell_type": "code",
   "execution_count": 9,
   "id": "e96339b9",
   "metadata": {},
   "outputs": [
    {
     "data": {
      "text/html": [
       "<div>\n",
       "<style scoped>\n",
       "    .dataframe tbody tr th:only-of-type {\n",
       "        vertical-align: middle;\n",
       "    }\n",
       "\n",
       "    .dataframe tbody tr th {\n",
       "        vertical-align: top;\n",
       "    }\n",
       "\n",
       "    .dataframe thead th {\n",
       "        text-align: right;\n",
       "    }\n",
       "</style>\n",
       "<table border=\"1\" class=\"dataframe\">\n",
       "  <thead>\n",
       "    <tr style=\"text-align: right;\">\n",
       "      <th></th>\n",
       "      <th>UnitID</th>\n",
       "      <th>batch_load</th>\n",
       "      <th>ProductID</th>\n",
       "      <th>POID</th>\n",
       "      <th>RequestID</th>\n",
       "      <th>Status</th>\n",
       "      <th>SerialNumber</th>\n",
       "      <th>DateRecieved</th>\n",
       "      <th>AssetNumber</th>\n",
       "      <th>AllocatedUser</th>\n",
       "      <th>DateCreated</th>\n",
       "      <th>IMEI_1</th>\n",
       "      <th>IMEI_2</th>\n",
       "      <th>MobilePhone</th>\n",
       "    </tr>\n",
       "  </thead>\n",
       "  <tbody>\n",
       "    <tr>\n",
       "      <th>0</th>\n",
       "      <td>62385</td>\n",
       "      <td>2025-08-26 17:26:15.153216</td>\n",
       "      <td>22</td>\n",
       "      <td>297</td>\n",
       "      <td>0.0</td>\n",
       "      <td>Booked In</td>\n",
       "      <td>NaN</td>\n",
       "      <td>2023-03-30</td>\n",
       "      <td>NaN</td>\n",
       "      <td>NaN</td>\n",
       "      <td>2023-03-30 10:04:28.223</td>\n",
       "      <td>NaN</td>\n",
       "      <td>NaN</td>\n",
       "      <td>NaN</td>\n",
       "    </tr>\n",
       "  </tbody>\n",
       "</table>\n",
       "</div>"
      ],
      "text/plain": [
       "   UnitID                 batch_load  ProductID  POID  RequestID     Status  \\\n",
       "0   62385 2025-08-26 17:26:15.153216         22   297        0.0  Booked In   \n",
       "\n",
       "  SerialNumber DateRecieved AssetNumber AllocatedUser             DateCreated  \\\n",
       "0          NaN   2023-03-30         NaN           NaN 2023-03-30 10:04:28.223   \n",
       "\n",
       "  IMEI_1  IMEI_2 MobilePhone  \n",
       "0    NaN     NaN         NaN  "
      ]
     },
     "execution_count": 9,
     "metadata": {},
     "output_type": "execute_result"
    }
   ],
   "source": [
    "parsed_access_tblunit_23_25.head(1)"
   ]
  },
  {
   "cell_type": "code",
   "execution_count": 29,
   "id": "c21bb361",
   "metadata": {},
   "outputs": [],
   "source": [
    "parsed_access_tblunit_23_25[\"parsed_IMEI_2\"] = parsed_access_tblunit_23_25[\"IMEI_2\"].astype(\"object\")\n",
    "parsed_access_tblunit_23_25[\"parsed_Status\"] = parsed_access_tblunit_23_25[\"Status\"].str.strip().replace(\"\", np.nan)\n",
    "parsed_access_tblunit_23_25[\"parsed_SerialNumber\"] = parsed_access_tblunit_23_25[\"SerialNumber\"].str.strip().replace(\"\", np.nan)\n",
    "parsed_access_tblunit_23_25[\"parsed_AssetNumber\"] = parsed_access_tblunit_23_25[\"AssetNumber\"].str.strip().replace(\"\", np.nan)\n",
    "parsed_access_tblunit_23_25[\"parsed_AllocatedUser\"] = parsed_access_tblunit_23_25[\"AllocatedUser\"].str.strip().replace(\"\", np.nan)\n",
    "parsed_access_tblunit_23_25[\"parsed_IMEI_1\"] = parsed_access_tblunit_23_25[\"IMEI_1\"].str.strip().replace(\"\", np.nan)\n",
    "parsed_access_tblunit_23_25[\"parsed_MobilePhone\"] = parsed_access_tblunit_23_25[\"MobilePhone\"].str.strip().replace(\"\", np.nan)\n",
    "\n",
    "# parsed_access_tblunit_23_25[\"parsed_IMEI_2\"] = parsed_access_tblunit_23_25[\"parsed_IMEI_2\"].str.strip().replace(\"\", np.nan) # not working as expected due various formats\n",
    "parsed_access_tblunit_23_25[\"parsed_MobilePhone\"] = parsed_access_tblunit_23_25[\"MobilePhone\"].str.strip().replace(\"\", np.nan)\n",
    "parsed_access_tblunit_23_25[\"parsed_DateRecieved\"] = pd.to_datetime(parsed_access_tblunit_23_25[\"DateRecieved\"], format=\"%d/%m/%Y\", dayfirst=True, errors=\"coerce\")\n",
    "parsed_access_tblunit_23_25[\"parsed_DateCreated\"] = pd.to_datetime(parsed_access_tblunit_23_25[\"DateCreated\"], format=\"%d/%m/%Y\", dayfirst=True, errors=\"coerce\")\n",
    "\n",
    "parsed_access_tblunit_23_25[\"parsed_UnitID\"] = pd.to_numeric(parsed_access_tblunit_23_25[\"UnitID\"], errors=\"coerce\").astype(\"Int64\")\n",
    "parsed_access_tblunit_23_25[\"parsed_ProductID\"] = pd.to_numeric(parsed_access_tblunit_23_25[\"ProductID\"], errors=\"coerce\").astype(\"Int64\")\n",
    "parsed_access_tblunit_23_25[\"parsed_POID\"] = pd.to_numeric(parsed_access_tblunit_23_25[\"POID\"], errors=\"coerce\").astype(\"Int64\")\n",
    "parsed_access_tblunit_23_25[\"parsed_RequestID\"] = pd.to_numeric(parsed_access_tblunit_23_25[\"RequestID\"], errors=\"coerce\").astype(\"Int64\")\n"
   ]
  },
  {
   "cell_type": "code",
   "execution_count": 30,
   "id": "28a0ce76",
   "metadata": {},
   "outputs": [],
   "source": [
    "parsed_access_tblunit_23_25[\"parsed_DateCreated\"] = pd.to_datetime(parsed_access_tblunit_23_25[\"DateCreated\"], format=\"%d/%m/%Y\", dayfirst=True, errors=\"coerce\")"
   ]
  },
  {
   "cell_type": "code",
   "execution_count": 31,
   "id": "956b1f72",
   "metadata": {},
   "outputs": [],
   "source": [
    "# parsing issue tbc\n",
    "\n",
    "cleaned_values = []\n",
    "\n",
    "for value in parsed_access_tblunit_23_25[\"parsed_IMEI_2\"]:\n",
    "    if pd.isnull(value):\n",
    "        value_str = str(value).strip() #converrt string, remove spaces\n",
    "        if value_str == \"\":\n",
    "            cleaned_values.append(np.nan) # if empty set to NaN\n",
    "        else:\n",
    "            cleaned_values.append(value_str)\n",
    "    else:\n",
    "        cleaned_values.append(np.nan) # if already null, keep NaN\n",
    "\n",
    "\n",
    "parsed_access_tblunit_23_25[\"parsed_IMEI_2\"] = cleaned_values"
   ]
  },
  {
   "cell_type": "code",
   "execution_count": 32,
   "id": "75ee5ec2",
   "metadata": {},
   "outputs": [
    {
     "data": {
      "text/plain": [
       "UnitID                           int64\n",
       "batch_load              datetime64[us]\n",
       "ProductID                        int64\n",
       "POID                             int64\n",
       "RequestID                      float64\n",
       "Status                          object\n",
       "SerialNumber                    object\n",
       "DateRecieved                    object\n",
       "AssetNumber                     object\n",
       "AllocatedUser                   object\n",
       "DateCreated             datetime64[ns]\n",
       "IMEI_1                          object\n",
       "IMEI_2                         float64\n",
       "MobilePhone                     object\n",
       "parsed_IMEI_2                   object\n",
       "parsed_Status                   object\n",
       "parsed_SerialNumber             object\n",
       "parsed_AssetNumber              object\n",
       "parsed_AllocatedUser            object\n",
       "parsed_IMEI_1                   object\n",
       "parsed_MobilePhone              object\n",
       "parsed_DateCreated      datetime64[ns]\n",
       "parsed_DateRecieved     datetime64[ns]\n",
       "parsed_UnitID                    Int64\n",
       "parsed_ProductID                 Int64\n",
       "parsed_POID                      Int64\n",
       "parsed_RequestID                 Int64\n",
       "dtype: object"
      ]
     },
     "execution_count": 32,
     "metadata": {},
     "output_type": "execute_result"
    }
   ],
   "source": [
    "parsed_access_tblunit_23_25.dtypes"
   ]
  },
  {
   "cell_type": "code",
   "execution_count": 36,
   "id": "10a3d42a",
   "metadata": {},
   "outputs": [],
   "source": [
    "import datetime\n",
    "\n",
    "mandatory_fields = [\"parsed_UnitID\", \"parsed_ProductID\", \"parsed_POID\", \"parsed_RequestID\", \"parsed_Status\", \"parsed_SerialNumber\", \"parsed_DateRecieved\", \"parsed_AssetNumber\", \"parsed_AllocatedUser\", \"parsed_DateCreated\", \"parsed_IMEI_2\", \"parsed_IMEI_1\", \"parsed_MobilePhone\"]\n",
    "\n",
    "source_system = \"ACCESS\"\n",
    "system_table = \"tblUnit\"\n",
    "data_period = \"23-24 to 24-25\"\n",
    "date_checked = datetime.date.today()\n",
    "\n",
    "\n",
    "allowed_start_date = pd.to_datetime(\"2023-01-01\")\n",
    "allowed_end_date = pd.to_datetime(\"2025-08-11\")\n",
    "valid_rstatus = [\"Allocated\", \"Assigned\", \"Booked In\", \"Completed\", \"Returned\"]\n",
    "# product_id_stored = [\"\"] # trial file parser"
   ]
  },
  {
   "cell_type": "code",
   "execution_count": 37,
   "id": "2e97bec3",
   "metadata": {},
   "outputs": [],
   "source": [
    "product_id_stored = []\n",
    "\n",
    "with open(\"tblProduct-export-26-08-2025-consolidated.txt\", \"r\") as productid_list_file:\n",
    "    for line in productid_list_file:\n",
    "        value = line.strip()\n",
    "        if value:\n",
    "            product_id_stored.append(value)\n",
    "\n"
   ]
  },
  {
   "cell_type": "code",
   "execution_count": null,
   "id": "af347d16",
   "metadata": {},
   "outputs": [],
   "source": [
    "# tblUnit errors ongoing:\n",
    "\n",
    "\n",
    "summary_records = []\n",
    "\n",
    "\n",
    "\n",
    "# missing fields\n",
    "for field in mandatory_fields:\n",
    "    missing_count = parsed_access_tblunit_23_25[field].isna().sum()\n",
    "    summary_records.append({\n",
    "        \"error_type\": \"Missing Field\",\n",
    "        \"source_system\": source_system,\n",
    "        \"system_table\": system_table,\n",
    "        \"data_period\": data_period,\n",
    "        \"date_checked\": date_checked,\n",
    "        \"field_name\": field,\n",
    "        \"error_count\": missing_count\n",
    "    })\n",
    "\n",
    "\n",
    "\n",
    "\n",
    "# format error / invalid format #revising tbc\n",
    "for field in mandatory_fields:\n",
    "    if not field.startswith(\"parsed_\"):\n",
    "        continue\n",
    "    raw_field = field.replace(\"parsed_\", \"\")\n",
    "    if field not in parsed_access_tblunit_23_25.columns or raw_field not in parsed_access_tblunit_23_25:\n",
    "        continue\n",
    "    format_error_count = parsed_access_tblunit_23_25[parsed_access_tblunit_23_25[raw_field].notna() & parsed_access_tblunit_23_25[field].isna()].shape[0]\n",
    "    summary_records.append({\n",
    "        \"error_type\": \"Invalid Format\",\n",
    "        \"source_system\": source_system,\n",
    "        \"system_table\": system_table,\n",
    "        \"data_period\": data_period,\n",
    "        \"date_checked\": date_checked,\n",
    "        \"field_name\": field,\n",
    "        \"error_count\": format_error_count\n",
    "    })\n",
    "\n",
    "\n",
    "\n",
    "\n",
    "# out of range error rstatus\n",
    "out_of_range_rstatus_count = parsed_access_tblunit_23_25[\n",
    "    parsed_access_tblunit_23_25[\"parsed_Status\"].notna() &\n",
    "    ~parsed_access_tblunit_23_25[\"parsed_Status\"].isin(valid_rstatus)].shape[0]\n",
    "\n",
    "summary_records.append({\n",
    "    \"error_type\": \"Out of Range Values\",\n",
    "    \"source_system\": source_system,\n",
    "    \"system_table\": system_table,\n",
    "    \"data_period\": data_period,\n",
    "    \"date_checked\": date_checked,\n",
    "    \"field_name\": \"Request Status\",\n",
    "    \"error_count\": out_of_range_rstatus_count\n",
    "})\n",
    "\n",
    "\n",
    "\n",
    "# out of range error - date entry / created\n",
    "out_of_range_datecreated_count = parsed_access_tblunit_23_25[parsed_access_tblunit_23_25[\"parsed_DateCreated\"].notna() &\n",
    "(\n",
    "    (parsed_access_tblunit_23_25[\"parsed_DateCreated\"] < allowed_start_date) |\n",
    "    (parsed_access_tblunit_23_25[\"parsed_DateCreated\"] > allowed_end_date)\n",
    ")].shape[0]\n",
    "\n",
    "summary_records.append({\n",
    "    \"error_type\": \"Out of Range Dates\",\n",
    "    \"source_system\": source_system,\n",
    "    \"system_table\": system_table,\n",
    "    \"data_period\": data_period,\n",
    "    \"date_checked\": date_checked,\n",
    "    \"field_name\": \"DateCreated\",\n",
    "    \"error_count\": out_of_range_datecreated_count\n",
    "})\n",
    "\n",
    "\n",
    "\n",
    "# out of range error - date entry / received\n",
    "out_of_range_datereceived_count = parsed_access_tblunit_23_25[parsed_access_tblunit_23_25[\"parsed_DateRecieved\"].notna() &\n",
    "(\n",
    "    (parsed_access_tblunit_23_25[\"parsed_DateRecieved\"] < allowed_start_date) |\n",
    "    (parsed_access_tblunit_23_25[\"parsed_DateRecieved\"] > allowed_end_date)\n",
    ")].shape[0]\n",
    "\n",
    "summary_records.append({\n",
    "    \"error_type\": \"Out of Range Dates\",\n",
    "    \"source_system\": source_system,\n",
    "    \"system_table\": system_table,\n",
    "    \"data_period\": data_period,\n",
    "    \"date_checked\": date_checked,\n",
    "    \"field_name\": \"DateReceived\",\n",
    "    \"error_count\": out_of_range_datereceived_count\n",
    "})\n",
    "\n",
    "\n",
    "\n",
    "# Duplicate UnitID \n",
    "\n",
    "\n",
    "\n",
    "\n",
    "\n",
    "# Duplicate SerialNumber\n",
    "\n",
    "\n",
    "\n",
    "\n",
    "\n",
    "\n",
    "# Duplicate AssetNumber\n",
    "\n",
    "\n",
    "\n",
    "\n",
    "\n",
    "\n",
    "\n"
   ]
  }
 ],
 "metadata": {
  "kernelspec": {
   "display_name": "base",
   "language": "python",
   "name": "python3"
  },
  "language_info": {
   "codemirror_mode": {
    "name": "ipython",
    "version": 3
   },
   "file_extension": ".py",
   "mimetype": "text/x-python",
   "name": "python",
   "nbconvert_exporter": "python",
   "pygments_lexer": "ipython3",
   "version": "3.11.5"
  }
 },
 "nbformat": 4,
 "nbformat_minor": 5
}
