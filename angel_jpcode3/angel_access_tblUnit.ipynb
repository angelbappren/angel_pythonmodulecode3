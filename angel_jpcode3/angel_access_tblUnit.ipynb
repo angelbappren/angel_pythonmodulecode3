{
 "cells": [
  {
   "cell_type": "code",
   "execution_count": 1,
   "id": "c378f91e",
   "metadata": {},
   "outputs": [],
   "source": [
    "import pandas as pd\n",
    "import numpy as np"
   ]
  },
  {
   "cell_type": "code",
   "execution_count": 2,
   "id": "6228d872",
   "metadata": {},
   "outputs": [],
   "source": [
    "# extract \n",
    "\n",
    "ld_add = pd.Timestamp.today()\n",
    "\n",
    "\n",
    "tblUnit_2023 = pd.ExcelFile(r\"C:\\Users\\angel\\OneDrive\\Documents\\Multiverse DS ADF 2\\Module 3\\Module 3 - Portfolio Project\\Access data\\tblUnit-jan-dec-2023-export-11-08-2025.xlsx\")\n",
    "tblUnit_2024 = pd.ExcelFile(r\"C:\\Users\\angel\\OneDrive\\Documents\\Multiverse DS ADF 2\\Module 3\\Module 3 - Portfolio Project\\Access data\\tblUnit-jan-dec-2024-export-11-08-2025.xlsx\")\n",
    "tblUnit_2025 = pd.ExcelFile(r\"C:\\Users\\angel\\OneDrive\\Documents\\Multiverse DS ADF 2\\Module 3\\Module 3 - Portfolio Project\\Access data\\tblUnit-jan-aug-2025-export-11-08-2025.xlsx\")\n",
    "\n",
    "access_tblUnit_2023 = pd.read_excel(tblUnit_2023, \"tblUnit\")\n",
    "access_tblUnit_2024 = pd.read_excel(tblUnit_2024, \"tblUnit\")\n",
    "access_tblUnit_2025 = pd.read_excel(tblUnit_2025, \"tblUnit\")"
   ]
  },
  {
   "cell_type": "code",
   "execution_count": 3,
   "id": "5121f947",
   "metadata": {},
   "outputs": [],
   "source": [
    "access_tblUnit_2023.insert(1, \"batch_load\", ld_add)\n",
    "access_tblUnit_2024.insert(1, \"batch_load\", ld_add)\n",
    "access_tblUnit_2025.insert(1, \"batch_load\", ld_add)"
   ]
  },
  {
   "cell_type": "code",
   "execution_count": 4,
   "id": "2f0f15e1",
   "metadata": {},
   "outputs": [],
   "source": [
    "access_tblunit_23_25 = pd.concat([access_tblUnit_2023, access_tblUnit_2024, access_tblUnit_2025], ignore_index=True)"
   ]
  },
  {
   "cell_type": "code",
   "execution_count": 5,
   "id": "7d5f5b6b",
   "metadata": {},
   "outputs": [],
   "source": [
    "parsed_access_tblunit_23_25 = access_tblunit_23_25.copy()"
   ]
  },
  {
   "cell_type": "code",
   "execution_count": 6,
   "id": "31aaf0a2",
   "metadata": {},
   "outputs": [
    {
     "data": {
      "text/plain": [
       "Index(['UnitID', 'batch_load', 'ProductID', 'POID', 'StoreID', 'SubStoreID',\n",
       "       'RequestID', 'TransferID', 'Status', 'SerialNumber', 'DateRecieved',\n",
       "       'UnitBarcode', 'AssetNumber', 'New', 'Accessories', 'OutDate',\n",
       "       'OutProjectID', 'OutPOID', 'OutNotes', 'SSMA_TimeStamp',\n",
       "       'AllocatedUser', 'LastAudit', 'DateCreated', 'IMEI_1', 'IMEI_2',\n",
       "       'MobilePhone'],\n",
       "      dtype='object')"
      ]
     },
     "execution_count": 6,
     "metadata": {},
     "output_type": "execute_result"
    }
   ],
   "source": [
    "parsed_access_tblunit_23_25.columns"
   ]
  },
  {
   "cell_type": "code",
   "execution_count": 7,
   "id": "9d0c0346",
   "metadata": {},
   "outputs": [],
   "source": [
    "dropcs = [\"StoreID\", \"SubStoreID\", \"TransferID\", \"UnitBarcode\", \"New\", \"Accessories\", \"OutDate\", \"OutProjectID\", \"OutPOID\", \"OutNotes\", \"SSMA_TimeStamp\", \"LastAudit\"]\n",
    "\n",
    "\n",
    "parsed_access_tblunit_23_25 = parsed_access_tblunit_23_25.drop(columns=dropcs)"
   ]
  },
  {
   "cell_type": "code",
   "execution_count": 8,
   "id": "e96339b9",
   "metadata": {},
   "outputs": [
    {
     "data": {
      "text/html": [
       "<div>\n",
       "<style scoped>\n",
       "    .dataframe tbody tr th:only-of-type {\n",
       "        vertical-align: middle;\n",
       "    }\n",
       "\n",
       "    .dataframe tbody tr th {\n",
       "        vertical-align: top;\n",
       "    }\n",
       "\n",
       "    .dataframe thead th {\n",
       "        text-align: right;\n",
       "    }\n",
       "</style>\n",
       "<table border=\"1\" class=\"dataframe\">\n",
       "  <thead>\n",
       "    <tr style=\"text-align: right;\">\n",
       "      <th></th>\n",
       "      <th>UnitID</th>\n",
       "      <th>batch_load</th>\n",
       "      <th>ProductID</th>\n",
       "      <th>POID</th>\n",
       "      <th>RequestID</th>\n",
       "      <th>Status</th>\n",
       "      <th>SerialNumber</th>\n",
       "      <th>DateRecieved</th>\n",
       "      <th>AssetNumber</th>\n",
       "      <th>AllocatedUser</th>\n",
       "      <th>DateCreated</th>\n",
       "      <th>IMEI_1</th>\n",
       "      <th>IMEI_2</th>\n",
       "      <th>MobilePhone</th>\n",
       "    </tr>\n",
       "  </thead>\n",
       "  <tbody>\n",
       "    <tr>\n",
       "      <th>0</th>\n",
       "      <td>62385</td>\n",
       "      <td>2025-08-26 08:41:14.427333</td>\n",
       "      <td>22</td>\n",
       "      <td>297</td>\n",
       "      <td>0.0</td>\n",
       "      <td>Booked In</td>\n",
       "      <td>NaN</td>\n",
       "      <td>2023-03-30</td>\n",
       "      <td>NaN</td>\n",
       "      <td>NaN</td>\n",
       "      <td>2023-03-30 10:04:28.223</td>\n",
       "      <td>NaN</td>\n",
       "      <td>NaN</td>\n",
       "      <td>NaN</td>\n",
       "    </tr>\n",
       "  </tbody>\n",
       "</table>\n",
       "</div>"
      ],
      "text/plain": [
       "   UnitID                 batch_load  ProductID  POID  RequestID     Status  \\\n",
       "0   62385 2025-08-26 08:41:14.427333         22   297        0.0  Booked In   \n",
       "\n",
       "  SerialNumber DateRecieved AssetNumber AllocatedUser             DateCreated  \\\n",
       "0          NaN   2023-03-30         NaN           NaN 2023-03-30 10:04:28.223   \n",
       "\n",
       "  IMEI_1  IMEI_2 MobilePhone  \n",
       "0    NaN     NaN         NaN  "
      ]
     },
     "execution_count": 8,
     "metadata": {},
     "output_type": "execute_result"
    }
   ],
   "source": [
    "parsed_access_tblunit_23_25.head(1)"
   ]
  },
  {
   "cell_type": "code",
   "execution_count": 16,
   "id": "c21bb361",
   "metadata": {},
   "outputs": [
    {
     "ename": "AttributeError",
     "evalue": "Can only use .str accessor with string values!",
     "output_type": "error",
     "traceback": [
      "\u001b[1;31m---------------------------------------------------------------------------\u001b[0m",
      "\u001b[1;31mAttributeError\u001b[0m                            Traceback (most recent call last)",
      "Cell \u001b[1;32mIn[16], line 9\u001b[0m\n\u001b[0;32m      6\u001b[0m parsed_access_tblunit_23_25[\u001b[38;5;124m\"\u001b[39m\u001b[38;5;124mparsed_IMEI_1\u001b[39m\u001b[38;5;124m\"\u001b[39m] \u001b[38;5;241m=\u001b[39m parsed_access_tblunit_23_25[\u001b[38;5;124m\"\u001b[39m\u001b[38;5;124mIMEI_1\u001b[39m\u001b[38;5;124m\"\u001b[39m]\u001b[38;5;241m.\u001b[39mstr\u001b[38;5;241m.\u001b[39mstrip()\u001b[38;5;241m.\u001b[39mreplace(\u001b[38;5;124m\"\u001b[39m\u001b[38;5;124m\"\u001b[39m, np\u001b[38;5;241m.\u001b[39mnan)\n\u001b[0;32m      7\u001b[0m parsed_access_tblunit_23_25[\u001b[38;5;124m\"\u001b[39m\u001b[38;5;124mparsed_MobilePhone\u001b[39m\u001b[38;5;124m\"\u001b[39m] \u001b[38;5;241m=\u001b[39m parsed_access_tblunit_23_25[\u001b[38;5;124m\"\u001b[39m\u001b[38;5;124mMobilePhone\u001b[39m\u001b[38;5;124m\"\u001b[39m]\u001b[38;5;241m.\u001b[39mstr\u001b[38;5;241m.\u001b[39mstrip()\u001b[38;5;241m.\u001b[39mreplace(\u001b[38;5;124m\"\u001b[39m\u001b[38;5;124m\"\u001b[39m, np\u001b[38;5;241m.\u001b[39mnan)\n\u001b[1;32m----> 9\u001b[0m parsed_access_tblunit_23_25[\u001b[38;5;124m\"\u001b[39m\u001b[38;5;124mparsed_IMEI_2\u001b[39m\u001b[38;5;124m\"\u001b[39m] \u001b[38;5;241m=\u001b[39m parsed_access_tblunit_23_25[\u001b[38;5;124m\"\u001b[39m\u001b[38;5;124mparsed_IMEI_2\u001b[39m\u001b[38;5;124m\"\u001b[39m]\u001b[38;5;241m.\u001b[39mstr\u001b[38;5;241m.\u001b[39mstrip()\u001b[38;5;241m.\u001b[39mreplace(\u001b[38;5;124m\"\u001b[39m\u001b[38;5;124m\"\u001b[39m, np\u001b[38;5;241m.\u001b[39mnan) \u001b[38;5;66;03m# not working as expected due various formats\u001b[39;00m\n\u001b[0;32m     10\u001b[0m parsed_access_tblunit_23_25[\u001b[38;5;124m\"\u001b[39m\u001b[38;5;124mparsed_MobilePhone\u001b[39m\u001b[38;5;124m\"\u001b[39m] \u001b[38;5;241m=\u001b[39m parsed_access_tblunit_23_25[\u001b[38;5;124m\"\u001b[39m\u001b[38;5;124mMobilePhone\u001b[39m\u001b[38;5;124m\"\u001b[39m]\u001b[38;5;241m.\u001b[39mstr\u001b[38;5;241m.\u001b[39mstrip()\u001b[38;5;241m.\u001b[39mreplace(\u001b[38;5;124m\"\u001b[39m\u001b[38;5;124m\"\u001b[39m, np\u001b[38;5;241m.\u001b[39mnan)\n\u001b[0;32m     11\u001b[0m parsed_access_tblunit_23_25[\u001b[38;5;124m\"\u001b[39m\u001b[38;5;124mparsed_DateRecieved\u001b[39m\u001b[38;5;124m\"\u001b[39m] \u001b[38;5;241m=\u001b[39m pd\u001b[38;5;241m.\u001b[39mto_datetime(parsed_access_tblunit_23_25[\u001b[38;5;124m\"\u001b[39m\u001b[38;5;124mDateRecieved\u001b[39m\u001b[38;5;124m\"\u001b[39m], \u001b[38;5;28mformat\u001b[39m\u001b[38;5;241m=\u001b[39m\u001b[38;5;124m\"\u001b[39m\u001b[38;5;132;01m%d\u001b[39;00m\u001b[38;5;124m/\u001b[39m\u001b[38;5;124m%\u001b[39m\u001b[38;5;124mm/\u001b[39m\u001b[38;5;124m%\u001b[39m\u001b[38;5;124mY\u001b[39m\u001b[38;5;124m\"\u001b[39m, dayfirst\u001b[38;5;241m=\u001b[39m\u001b[38;5;28;01mTrue\u001b[39;00m, errors\u001b[38;5;241m=\u001b[39m\u001b[38;5;124m\"\u001b[39m\u001b[38;5;124mcoerce\u001b[39m\u001b[38;5;124m\"\u001b[39m)\n",
      "File \u001b[1;32mc:\\Users\\angel\\anaconda3\\Lib\\site-packages\\pandas\\core\\generic.py:6296\u001b[0m, in \u001b[0;36mNDFrame.__getattr__\u001b[1;34m(self, name)\u001b[0m\n\u001b[0;32m   6289\u001b[0m \u001b[38;5;28;01mif\u001b[39;00m (\n\u001b[0;32m   6290\u001b[0m     name \u001b[38;5;129;01mnot\u001b[39;00m \u001b[38;5;129;01min\u001b[39;00m \u001b[38;5;28mself\u001b[39m\u001b[38;5;241m.\u001b[39m_internal_names_set\n\u001b[0;32m   6291\u001b[0m     \u001b[38;5;129;01mand\u001b[39;00m name \u001b[38;5;129;01mnot\u001b[39;00m \u001b[38;5;129;01min\u001b[39;00m \u001b[38;5;28mself\u001b[39m\u001b[38;5;241m.\u001b[39m_metadata\n\u001b[0;32m   6292\u001b[0m     \u001b[38;5;129;01mand\u001b[39;00m name \u001b[38;5;129;01mnot\u001b[39;00m \u001b[38;5;129;01min\u001b[39;00m \u001b[38;5;28mself\u001b[39m\u001b[38;5;241m.\u001b[39m_accessors\n\u001b[0;32m   6293\u001b[0m     \u001b[38;5;129;01mand\u001b[39;00m \u001b[38;5;28mself\u001b[39m\u001b[38;5;241m.\u001b[39m_info_axis\u001b[38;5;241m.\u001b[39m_can_hold_identifiers_and_holds_name(name)\n\u001b[0;32m   6294\u001b[0m ):\n\u001b[0;32m   6295\u001b[0m     \u001b[38;5;28;01mreturn\u001b[39;00m \u001b[38;5;28mself\u001b[39m[name]\n\u001b[1;32m-> 6296\u001b[0m \u001b[38;5;28;01mreturn\u001b[39;00m \u001b[38;5;28mobject\u001b[39m\u001b[38;5;241m.\u001b[39m\u001b[38;5;21m__getattribute__\u001b[39m(\u001b[38;5;28mself\u001b[39m, name)\n",
      "File \u001b[1;32mc:\\Users\\angel\\anaconda3\\Lib\\site-packages\\pandas\\core\\accessor.py:224\u001b[0m, in \u001b[0;36mCachedAccessor.__get__\u001b[1;34m(self, obj, cls)\u001b[0m\n\u001b[0;32m    221\u001b[0m \u001b[38;5;28;01mif\u001b[39;00m obj \u001b[38;5;129;01mis\u001b[39;00m \u001b[38;5;28;01mNone\u001b[39;00m:\n\u001b[0;32m    222\u001b[0m     \u001b[38;5;66;03m# we're accessing the attribute of the class, i.e., Dataset.geo\u001b[39;00m\n\u001b[0;32m    223\u001b[0m     \u001b[38;5;28;01mreturn\u001b[39;00m \u001b[38;5;28mself\u001b[39m\u001b[38;5;241m.\u001b[39m_accessor\n\u001b[1;32m--> 224\u001b[0m accessor_obj \u001b[38;5;241m=\u001b[39m \u001b[38;5;28mself\u001b[39m\u001b[38;5;241m.\u001b[39m_accessor(obj)\n\u001b[0;32m    225\u001b[0m \u001b[38;5;66;03m# Replace the property with the accessor object. Inspired by:\u001b[39;00m\n\u001b[0;32m    226\u001b[0m \u001b[38;5;66;03m# https://www.pydanny.com/cached-property.html\u001b[39;00m\n\u001b[0;32m    227\u001b[0m \u001b[38;5;66;03m# We need to use object.__setattr__ because we overwrite __setattr__ on\u001b[39;00m\n\u001b[0;32m    228\u001b[0m \u001b[38;5;66;03m# NDFrame\u001b[39;00m\n\u001b[0;32m    229\u001b[0m \u001b[38;5;28mobject\u001b[39m\u001b[38;5;241m.\u001b[39m\u001b[38;5;21m__setattr__\u001b[39m(obj, \u001b[38;5;28mself\u001b[39m\u001b[38;5;241m.\u001b[39m_name, accessor_obj)\n",
      "File \u001b[1;32mc:\\Users\\angel\\anaconda3\\Lib\\site-packages\\pandas\\core\\strings\\accessor.py:191\u001b[0m, in \u001b[0;36mStringMethods.__init__\u001b[1;34m(self, data)\u001b[0m\n\u001b[0;32m    188\u001b[0m \u001b[38;5;28;01mdef\u001b[39;00m \u001b[38;5;21m__init__\u001b[39m(\u001b[38;5;28mself\u001b[39m, data) \u001b[38;5;241m-\u001b[39m\u001b[38;5;241m>\u001b[39m \u001b[38;5;28;01mNone\u001b[39;00m:\n\u001b[0;32m    189\u001b[0m     \u001b[38;5;28;01mfrom\u001b[39;00m \u001b[38;5;21;01mpandas\u001b[39;00m\u001b[38;5;21;01m.\u001b[39;00m\u001b[38;5;21;01mcore\u001b[39;00m\u001b[38;5;21;01m.\u001b[39;00m\u001b[38;5;21;01marrays\u001b[39;00m\u001b[38;5;21;01m.\u001b[39;00m\u001b[38;5;21;01mstring_\u001b[39;00m \u001b[38;5;28;01mimport\u001b[39;00m StringDtype\n\u001b[1;32m--> 191\u001b[0m     \u001b[38;5;28mself\u001b[39m\u001b[38;5;241m.\u001b[39m_inferred_dtype \u001b[38;5;241m=\u001b[39m \u001b[38;5;28mself\u001b[39m\u001b[38;5;241m.\u001b[39m_validate(data)\n\u001b[0;32m    192\u001b[0m     \u001b[38;5;28mself\u001b[39m\u001b[38;5;241m.\u001b[39m_is_categorical \u001b[38;5;241m=\u001b[39m \u001b[38;5;28misinstance\u001b[39m(data\u001b[38;5;241m.\u001b[39mdtype, CategoricalDtype)\n\u001b[0;32m    193\u001b[0m     \u001b[38;5;28mself\u001b[39m\u001b[38;5;241m.\u001b[39m_is_string \u001b[38;5;241m=\u001b[39m \u001b[38;5;28misinstance\u001b[39m(data\u001b[38;5;241m.\u001b[39mdtype, StringDtype)\n",
      "File \u001b[1;32mc:\\Users\\angel\\anaconda3\\Lib\\site-packages\\pandas\\core\\strings\\accessor.py:245\u001b[0m, in \u001b[0;36mStringMethods._validate\u001b[1;34m(data)\u001b[0m\n\u001b[0;32m    242\u001b[0m inferred_dtype \u001b[38;5;241m=\u001b[39m lib\u001b[38;5;241m.\u001b[39minfer_dtype(values, skipna\u001b[38;5;241m=\u001b[39m\u001b[38;5;28;01mTrue\u001b[39;00m)\n\u001b[0;32m    244\u001b[0m \u001b[38;5;28;01mif\u001b[39;00m inferred_dtype \u001b[38;5;129;01mnot\u001b[39;00m \u001b[38;5;129;01min\u001b[39;00m allowed_types:\n\u001b[1;32m--> 245\u001b[0m     \u001b[38;5;28;01mraise\u001b[39;00m \u001b[38;5;167;01mAttributeError\u001b[39;00m(\u001b[38;5;124m\"\u001b[39m\u001b[38;5;124mCan only use .str accessor with string values!\u001b[39m\u001b[38;5;124m\"\u001b[39m)\n\u001b[0;32m    246\u001b[0m \u001b[38;5;28;01mreturn\u001b[39;00m inferred_dtype\n",
      "\u001b[1;31mAttributeError\u001b[0m: Can only use .str accessor with string values!"
     ]
    }
   ],
   "source": [
    "parsed_access_tblunit_23_25[\"parsed_IMEI_2\"] = parsed_access_tblunit_23_25[\"IMEI_2\"].astype(\"object\")\n",
    "parsed_access_tblunit_23_25[\"parsed_Status\"] = parsed_access_tblunit_23_25[\"Status\"].str.strip().replace(\"\", np.nan)\n",
    "parsed_access_tblunit_23_25[\"parsed_SerialNumber\"] = parsed_access_tblunit_23_25[\"SerialNumber\"].str.strip().replace(\"\", np.nan)\n",
    "parsed_access_tblunit_23_25[\"parsed_AssetNumber\"] = parsed_access_tblunit_23_25[\"AssetNumber\"].str.strip().replace(\"\", np.nan)\n",
    "parsed_access_tblunit_23_25[\"parsed_AllocatedUser\"] = parsed_access_tblunit_23_25[\"AllocatedUser\"].str.strip().replace(\"\", np.nan)\n",
    "parsed_access_tblunit_23_25[\"parsed_IMEI_1\"] = parsed_access_tblunit_23_25[\"IMEI_1\"].str.strip().replace(\"\", np.nan)\n",
    "parsed_access_tblunit_23_25[\"parsed_MobilePhone\"] = parsed_access_tblunit_23_25[\"MobilePhone\"].str.strip().replace(\"\", np.nan)\n",
    "\n",
    "parsed_access_tblunit_23_25[\"parsed_IMEI_2\"] = parsed_access_tblunit_23_25[\"parsed_IMEI_2\"].str.strip().replace(\"\", np.nan) # not working as expected due various formats\n",
    "parsed_access_tblunit_23_25[\"parsed_MobilePhone\"] = parsed_access_tblunit_23_25[\"MobilePhone\"].str.strip().replace(\"\", np.nan)\n",
    "parsed_access_tblunit_23_25[\"parsed_DateRecieved\"] = pd.to_datetime(parsed_access_tblunit_23_25[\"DateRecieved\"], format=\"%d/%m/%Y\", dayfirst=True, errors=\"coerce\")\n",
    "\n",
    "parsed_access_tblunit_23_25[\"parsed_UnitID\"] = pd.to_numeric(parsed_access_tblunit_23_25[\"UnitID\"], errors=\"coerce\").astype(\"Int64\")\n",
    "parsed_access_tblunit_23_25[\"parsed_ProductID\"] = pd.to_numeric(parsed_access_tblunit_23_25[\"ProductID\"], errors=\"coerce\").astype(\"Int64\")\n",
    "parsed_access_tblunit_23_25[\"parsed_POID\"] = pd.to_numeric(parsed_access_tblunit_23_25[\"POID\"], errors=\"coerce\").astype(\"Int64\")\n",
    "parsed_access_tblunit_23_25[\"parsed_RequestID\"] = pd.to_numeric(parsed_access_tblunit_23_25[\"RequestID\"], errors=\"coerce\").astype(\"Int64\")\n"
   ]
  },
  {
   "cell_type": "code",
   "execution_count": 17,
   "id": "956b1f72",
   "metadata": {},
   "outputs": [],
   "source": [
    "# parsing issue tbc\n",
    "\n",
    "cleaned_values = []\n",
    "\n",
    "for value in parsed_access_tblunit_23_25[\"parsed_IMEI_2\"]:\n",
    "    if pd.isnull(value):\n",
    "        value_str = str(value).strip() #converrt string, remove spaces\n",
    "        if value_str == \"\":\n",
    "            cleaned_values.append(np.nan) # if empty set to NaN\n",
    "        else:\n",
    "            cleaned_values.append(value_str)\n",
    "    else:\n",
    "        cleaned_values.append(np.nan) # if already null, keep NaN\n",
    "\n",
    "\n",
    "parsed_access_tblunit_23_25[\"parsed_IMEI_2\"] = cleaned_values"
   ]
  },
  {
   "cell_type": "code",
   "execution_count": 18,
   "id": "75ee5ec2",
   "metadata": {},
   "outputs": [
    {
     "data": {
      "text/plain": [
       "UnitID                           int64\n",
       "batch_load              datetime64[us]\n",
       "ProductID                        int64\n",
       "POID                             int64\n",
       "RequestID                      float64\n",
       "Status                          object\n",
       "SerialNumber                    object\n",
       "DateRecieved                    object\n",
       "AssetNumber                     object\n",
       "AllocatedUser                   object\n",
       "DateCreated             datetime64[ns]\n",
       "IMEI_1                          object\n",
       "IMEI_2                         float64\n",
       "MobilePhone                     object\n",
       "parsed_IMEI_2                   object\n",
       "parsed_Status                   object\n",
       "parsed_SerialNumber             object\n",
       "parsed_AssetNumber              object\n",
       "parsed_AllocatedUser            object\n",
       "parsed_IMEI_1                   object\n",
       "parsed_MobilePhone              object\n",
       "parsed_DateRecieved     datetime64[ns]\n",
       "parsed_UnitID                    Int64\n",
       "parsed_ProductID                 Int64\n",
       "parsed_POID                      Int64\n",
       "parsed_RequestID                 Int64\n",
       "dtype: object"
      ]
     },
     "execution_count": 18,
     "metadata": {},
     "output_type": "execute_result"
    }
   ],
   "source": [
    "parsed_access_tblunit_23_25.dtypes"
   ]
  },
  {
   "cell_type": "code",
   "execution_count": null,
   "id": "af347d16",
   "metadata": {},
   "outputs": [],
   "source": []
  }
 ],
 "metadata": {
  "kernelspec": {
   "display_name": "base",
   "language": "python",
   "name": "python3"
  },
  "language_info": {
   "codemirror_mode": {
    "name": "ipython",
    "version": 3
   },
   "file_extension": ".py",
   "mimetype": "text/x-python",
   "name": "python",
   "nbconvert_exporter": "python",
   "pygments_lexer": "ipython3",
   "version": "3.11.5"
  }
 },
 "nbformat": 4,
 "nbformat_minor": 5
}
