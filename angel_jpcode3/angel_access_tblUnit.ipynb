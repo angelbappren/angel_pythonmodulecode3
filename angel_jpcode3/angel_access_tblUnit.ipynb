{
 "cells": [
  {
   "cell_type": "code",
   "execution_count": 2,
   "id": "c378f91e",
   "metadata": {},
   "outputs": [],
   "source": [
    "import pandas as pd\n",
    "import numpy as np"
   ]
  },
  {
   "cell_type": "code",
   "execution_count": 4,
   "id": "6228d872",
   "metadata": {},
   "outputs": [],
   "source": [
    "# extract \n",
    "\n",
    "ld_add = pd.Timestamp.today()\n",
    "\n",
    "\n",
    "tblUnit_2023 = pd.ExcelFile(r\"C:\\Users\\angel\\OneDrive\\Documents\\Multiverse DS ADF 2\\Module 3\\Module 3 - Portfolio Project\\Access data\\tblUnit-jan-dec-2023-export-11-08-2025.xlsx\")\n",
    "tblUnit_2024 = pd.ExcelFile(r\"C:\\Users\\angel\\OneDrive\\Documents\\Multiverse DS ADF 2\\Module 3\\Module 3 - Portfolio Project\\Access data\\tblUnit-jan-dec-2024-export-11-08-2025.xlsx\")\n",
    "tblUnit_2025 = pd.ExcelFile(r\"C:\\Users\\angel\\OneDrive\\Documents\\Multiverse DS ADF 2\\Module 3\\Module 3 - Portfolio Project\\Access data\\tblUnit-jan-aug-2025-export-11-08-2025.xlsx\")\n",
    "\n",
    "access_tblUnit_2023 = pd.read_excel(tblUnit_2023, \"tblUnit\")\n",
    "access_tblUnit_2024 = pd.read_excel(tblUnit_2024, \"tblUnit\")\n",
    "access_tblUnit_2025 = pd.read_excel(tblUnit_2025, \"tblUnit\")"
   ]
  },
  {
   "cell_type": "code",
   "execution_count": 5,
   "id": "5121f947",
   "metadata": {},
   "outputs": [],
   "source": [
    "access_tblUnit_2023.insert(1, \"batch_load\", ld_add)\n",
    "access_tblUnit_2024.insert(1, \"batch_load\", ld_add)\n",
    "access_tblUnit_2025.insert(1, \"batch_load\", ld_add)"
   ]
  },
  {
   "cell_type": "code",
   "execution_count": 6,
   "id": "2f0f15e1",
   "metadata": {},
   "outputs": [],
   "source": [
    "access_tblunit_23_25 = pd.concat([access_tblUnit_2023, access_tblUnit_2024, access_tblUnit_2025], ignore_index=True)"
   ]
  },
  {
   "cell_type": "code",
   "execution_count": 7,
   "id": "7d5f5b6b",
   "metadata": {},
   "outputs": [],
   "source": [
    "parsed_access_tblunit_23_25 = access_tblunit_23_25.copy()"
   ]
  },
  {
   "cell_type": "code",
   "execution_count": 8,
   "id": "31aaf0a2",
   "metadata": {},
   "outputs": [
    {
     "data": {
      "text/plain": [
       "Index(['UnitID', 'batch_load', 'ProductID', 'POID', 'StoreID', 'SubStoreID',\n",
       "       'RequestID', 'TransferID', 'Status', 'SerialNumber', 'DateRecieved',\n",
       "       'UnitBarcode', 'AssetNumber', 'New', 'Accessories', 'OutDate',\n",
       "       'OutProjectID', 'OutPOID', 'OutNotes', 'SSMA_TimeStamp',\n",
       "       'AllocatedUser', 'LastAudit', 'DateCreated', 'IMEI_1', 'IMEI_2',\n",
       "       'MobilePhone'],\n",
       "      dtype='object')"
      ]
     },
     "execution_count": 8,
     "metadata": {},
     "output_type": "execute_result"
    }
   ],
   "source": [
    "parsed_access_tblunit_23_25.columns"
   ]
  },
  {
   "cell_type": "code",
   "execution_count": 11,
   "id": "9d0c0346",
   "metadata": {},
   "outputs": [],
   "source": [
    "dropcs = [\"StoreID\", \"SubStoreID\", \"TransferID\", \"UnitBarcode\", \"New\", \"Accessories\", \"OutDate\", \"OutProjectID\", \"OutPOID\", \"OutNotes\", \"SSMA_TimeStamp\", \"LastAudit\"]\n",
    "\n",
    "\n",
    "parsed_access_tblunit_23_25 = parsed_access_tblunit_23_25.drop(columns=dropcs)"
   ]
  },
  {
   "cell_type": "code",
   "execution_count": 12,
   "id": "e96339b9",
   "metadata": {},
   "outputs": [
    {
     "data": {
      "text/html": [
       "<div>\n",
       "<style scoped>\n",
       "    .dataframe tbody tr th:only-of-type {\n",
       "        vertical-align: middle;\n",
       "    }\n",
       "\n",
       "    .dataframe tbody tr th {\n",
       "        vertical-align: top;\n",
       "    }\n",
       "\n",
       "    .dataframe thead th {\n",
       "        text-align: right;\n",
       "    }\n",
       "</style>\n",
       "<table border=\"1\" class=\"dataframe\">\n",
       "  <thead>\n",
       "    <tr style=\"text-align: right;\">\n",
       "      <th></th>\n",
       "      <th>UnitID</th>\n",
       "      <th>batch_load</th>\n",
       "      <th>ProductID</th>\n",
       "      <th>POID</th>\n",
       "      <th>RequestID</th>\n",
       "      <th>Status</th>\n",
       "      <th>SerialNumber</th>\n",
       "      <th>DateRecieved</th>\n",
       "      <th>AssetNumber</th>\n",
       "      <th>AllocatedUser</th>\n",
       "      <th>DateCreated</th>\n",
       "      <th>IMEI_1</th>\n",
       "      <th>IMEI_2</th>\n",
       "      <th>MobilePhone</th>\n",
       "    </tr>\n",
       "  </thead>\n",
       "  <tbody>\n",
       "    <tr>\n",
       "      <th>0</th>\n",
       "      <td>62385</td>\n",
       "      <td>2025-08-19 20:19:20.526298</td>\n",
       "      <td>22</td>\n",
       "      <td>297</td>\n",
       "      <td>0.0</td>\n",
       "      <td>Booked In</td>\n",
       "      <td>NaN</td>\n",
       "      <td>2023-03-30</td>\n",
       "      <td>NaN</td>\n",
       "      <td>NaN</td>\n",
       "      <td>2023-03-30 10:04:28.223</td>\n",
       "      <td>NaN</td>\n",
       "      <td>NaN</td>\n",
       "      <td>NaN</td>\n",
       "    </tr>\n",
       "  </tbody>\n",
       "</table>\n",
       "</div>"
      ],
      "text/plain": [
       "   UnitID                 batch_load  ProductID  POID  RequestID     Status  \\\n",
       "0   62385 2025-08-19 20:19:20.526298         22   297        0.0  Booked In   \n",
       "\n",
       "  SerialNumber DateRecieved AssetNumber AllocatedUser             DateCreated  \\\n",
       "0          NaN   2023-03-30         NaN           NaN 2023-03-30 10:04:28.223   \n",
       "\n",
       "  IMEI_1  IMEI_2 MobilePhone  \n",
       "0    NaN     NaN         NaN  "
      ]
     },
     "execution_count": 12,
     "metadata": {},
     "output_type": "execute_result"
    }
   ],
   "source": [
    "parsed_access_tblunit_23_25.head(1)"
   ]
  },
  {
   "cell_type": "code",
   "execution_count": 16,
   "id": "c21bb361",
   "metadata": {},
   "outputs": [],
   "source": [
    "#parsed_access_tblunit_23_25[\"parsed_IMEI_2\"] = parsed_access_tblunit_23_25[\"IMEI_2\"].astype(\"object\") - need to separate\n",
    "parsed_access_tblunit_23_25[\"parsed_Status\"] = parsed_access_tblunit_23_25[\"Status\"].str.strip().replace(\"\", np.nan)\n",
    "parsed_access_tblunit_23_25[\"parsed_SerialNumber\"] = parsed_access_tblunit_23_25[\"SerialNumber\"].str.strip().replace(\"\", np.nan)\n",
    "parsed_access_tblunit_23_25[\"parsed_AssetNumber\"] = parsed_access_tblunit_23_25[\"AssetNumber\"].str.strip().replace(\"\", np.nan)\n",
    "parsed_access_tblunit_23_25[\"parsed_AllocatedUser\"] = parsed_access_tblunit_23_25[\"AllocatedUser\"].str.strip().replace(\"\", np.nan)\n",
    "parsed_access_tblunit_23_25[\"parsed_IMEI_1\"] = parsed_access_tblunit_23_25[\"IMEI_1\"].str.strip().replace(\"\", np.nan)\n",
    "\n",
    "#parsed_access_tblunit_23_25[\"parsed_IMEI_2\"] = parsed_access_tblunit_23_25[\"parsed_IMEI_2\"].str.strip().replace(\"\", np.nan) - need to separate\n",
    "parsed_access_tblunit_23_25[\"parsed_MobilePhone\"] = parsed_access_tblunit_23_25[\"MobilePhone\"].str.strip().replace(\"\", np.nan)\n",
    "parsed_access_tblunit_23_25[\"parsed_DateRecieved\"] = pd.to_datetime(parsed_access_tblunit_23_25[\"DateRecieved\"], format=\"%d/%m/%Y\", dayfirst=True, errors=\"coerce\")\n",
    "\n",
    "parsed_access_tblunit_23_25[\"parsed_UnitID\"] = pd.to_numeric(parsed_access_tblunit_23_25[\"UnitID\"], errors=\"coerce\").astype(\"Int64\")\n",
    "parsed_access_tblunit_23_25[\"parsed_ProductID\"] = pd.to_numeric(parsed_access_tblunit_23_25[\"ProductID\"], errors=\"coerce\").astype(\"Int64\")\n",
    "parsed_access_tblunit_23_25[\"parsed_POID\"] = pd.to_numeric(parsed_access_tblunit_23_25[\"POID\"], errors=\"coerce\").astype(\"Int64\")\n",
    "parsed_access_tblunit_23_25[\"parsed_RequestID\"] = pd.to_numeric(parsed_access_tblunit_23_25[\"RequestID\"], errors=\"coerce\").astype(\"Int64\")\n"
   ]
  },
  {
   "cell_type": "code",
   "execution_count": null,
   "id": "af347d16",
   "metadata": {},
   "outputs": [],
   "source": []
  }
 ],
 "metadata": {
  "kernelspec": {
   "display_name": "base",
   "language": "python",
   "name": "python3"
  },
  "language_info": {
   "codemirror_mode": {
    "name": "ipython",
    "version": 3
   },
   "file_extension": ".py",
   "mimetype": "text/x-python",
   "name": "python",
   "nbconvert_exporter": "python",
   "pygments_lexer": "ipython3",
   "version": "3.11.5"
  }
 },
 "nbformat": 4,
 "nbformat_minor": 5
}
