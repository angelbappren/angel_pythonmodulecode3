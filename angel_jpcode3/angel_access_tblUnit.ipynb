{
 "cells": [
  {
   "cell_type": "code",
   "execution_count": 2,
   "id": "c378f91e",
   "metadata": {},
   "outputs": [],
   "source": [
    "import pandas as pd\n",
    "import numpy as np"
   ]
  },
  {
   "cell_type": "code",
   "execution_count": 17,
   "id": "6228d872",
   "metadata": {},
   "outputs": [],
   "source": [
    "# extract \n",
    "\n",
    "ld_add = pd.Timestamp.today()\n",
    "\n",
    "\n",
    "tblUnit_2023 = pd.ExcelFile(r\"C:\\Users\\angel\\OneDrive\\Documents\\Multiverse DS ADF 2\\Module 3\\Module 3 - Portfolio Project\\Access data\\tblUnit-jan-dec-2023-export-11-08-2025.xlsx\")\n",
    "tblUnit_2024 = pd.ExcelFile(r\"C:\\Users\\angel\\OneDrive\\Documents\\Multiverse DS ADF 2\\Module 3\\Module 3 - Portfolio Project\\Access data\\tblUnit-jan-dec-2024-export-11-08-2025.xlsx\")\n",
    "tblUnit_2025 = pd.ExcelFile(r\"C:\\Users\\angel\\OneDrive\\Documents\\Multiverse DS ADF 2\\Module 3\\Module 3 - Portfolio Project\\Access data\\tblUnit-jan-aug-2025-export-11-08-2025.xlsx\")\n",
    "\n",
    "access_tblUnit_2023 = pd.read_excel(tblUnit_2023, \"tblUnit\")\n",
    "access_tblUnit_2024 = pd.read_excel(tblUnit_2024, \"tblUnit\")\n",
    "access_tblUnit_2025 = pd.read_excel(tblUnit_2025, \"tblUnit\")"
   ]
  },
  {
   "cell_type": "code",
   "execution_count": 20,
   "id": "5121f947",
   "metadata": {},
   "outputs": [],
   "source": [
    "access_tblUnit_2023.insert(1, \"batch_load\", ld_add)\n",
    "access_tblUnit_2024.insert(1, \"batch_load\", ld_add)\n",
    "access_tblUnit_2025.insert(1, \"batch_load\", ld_add)"
   ]
  }
 ],
 "metadata": {
  "kernelspec": {
   "display_name": "base",
   "language": "python",
   "name": "python3"
  },
  "language_info": {
   "codemirror_mode": {
    "name": "ipython",
    "version": 3
   },
   "file_extension": ".py",
   "mimetype": "text/x-python",
   "name": "python",
   "nbconvert_exporter": "python",
   "pygments_lexer": "ipython3",
   "version": "3.11.5"
  }
 },
 "nbformat": 4,
 "nbformat_minor": 5
}
