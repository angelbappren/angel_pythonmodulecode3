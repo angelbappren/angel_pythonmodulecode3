{
 "cells": [
  {
   "cell_type": "code",
   "execution_count": 2,
   "id": "fd8d2b89",
   "metadata": {},
   "outputs": [],
   "source": [
    "import pandas as pd"
   ]
  },
  {
   "cell_type": "code",
   "execution_count": null,
   "id": "d81e413a",
   "metadata": {},
   "outputs": [],
   "source": [
    "#Missing Entry\n",
    "#present in oracle but not in tracker\n",
    "#present in oracle but not in unitvinfo\n",
    "\n",
    "for a in oracle_data[\"PO\"]:\n",
    "    print a\n",
    "\n",
    "\n",
    "for a in oracle_data[\"PO\"]:\n",
    "    if a not in tracker_data[\"PO\"]:\n",
    "        report_error(\"Missing Entry in Tracker\", a)\n",
    "\n",
    "\n",
    "for a in oracle_data[\"PO\"]:\n",
    "    if a not in tblpo_data[\"PO\"]:\n",
    "        report_error(\"Missing Entry in access_tblpo\", a)\n",
    "\n",
    "\n",
    "\n",
    "\n",
    "\n",
    "\n",
    "\n"
   ]
  }
 ],
 "metadata": {
  "kernelspec": {
   "display_name": "base",
   "language": "python",
   "name": "python3"
  },
  "language_info": {
   "codemirror_mode": {
    "name": "ipython",
    "version": 3
   },
   "file_extension": ".py",
   "mimetype": "text/x-python",
   "name": "python",
   "nbconvert_exporter": "python",
   "pygments_lexer": "ipython3",
   "version": "3.11.5"
  }
 },
 "nbformat": 4,
 "nbformat_minor": 5
}
