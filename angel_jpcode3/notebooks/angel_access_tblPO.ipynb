{
 "cells": [
  {
   "cell_type": "code",
   "execution_count": 2,
   "id": "4fc2653b",
   "metadata": {},
   "outputs": [],
   "source": [
    "import pandas as pd\n",
    "import numpy as np"
   ]
  },
  {
   "cell_type": "code",
   "execution_count": 3,
   "id": "df13ca24",
   "metadata": {},
   "outputs": [],
   "source": [
    "# extract \n",
    "\n",
    "ld_add = pd.Timestamp.today()\n",
    "\n",
    "tblpo_2023 = pd.ExcelFile(r\"C:\\Users\\angel\\OneDrive\\Documents\\Multiverse DS ADF 2\\Module 3\\Module 3 - Portfolio Project\\Access data\\tblPO-jan-dec-2023-export-11-08-2025.xlsx\")\n",
    "tblpo_2024 = pd.ExcelFile(r\"C:\\Users\\angel\\OneDrive\\Documents\\Multiverse DS ADF 2\\Module 3\\Module 3 - Portfolio Project\\Access data\\tblPO-jan-dec-2024-export-11-08-2025.xlsx\")\n",
    "tblpo_2025 = pd.ExcelFile(r\"C:\\Users\\angel\\OneDrive\\Documents\\Multiverse DS ADF 2\\Module 3\\Module 3 - Portfolio Project\\Access data\\tblPO-jan-dec-2025-export-11-08-2025.xlsx\")\n",
    "\n",
    "access_tblpo_2023 = pd.read_excel(tblpo_2023, \"tblPO\")\n",
    "access_tblpo_2024 = pd.read_excel(tblpo_2024, \"tblPO\")\n",
    "access_tblpo_2025 = pd.read_excel(tblpo_2025, \"tblPO\")"
   ]
  },
  {
   "cell_type": "code",
   "execution_count": 4,
   "id": "fc446a26",
   "metadata": {},
   "outputs": [],
   "source": [
    "# load po ref\n",
    "\n",
    "po_numbers_2023_ref = pd.read_csv(r\"C:\\Users\\angel\\OneDrive\\Documents\\Multiverse DS ADF 2\\Module 3\\Module 3 - GitHub Classroom Repo\\angel_pythonmodulecode3\\angel_jpcode3\\data\\raw\\fnd_gfm_50117894-req-summary-jan-dec-2023-AN1446-ICT-consolidated.csv\")\n",
    "po_numbers_2024_ref = pd.read_csv(r\"C:\\Users\\angel\\OneDrive\\Documents\\Multiverse DS ADF 2\\Module 3\\Module 3 - GitHub Classroom Repo\\angel_pythonmodulecode3\\angel_jpcode3\\data\\raw\\fnd_gfm_50117895-req-summary-jan-dec-2024-AN1446-ICT-consolidated.csv\")\n",
    "po_numbers_2025_ref = pd.read_csv(r\"C:\\Users\\angel\\OneDrive\\Documents\\Multiverse DS ADF 2\\Module 3\\Module 3 - GitHub Classroom Repo\\angel_pythonmodulecode3\\angel_jpcode3\\data\\raw\\fnd_gfm_50117898-req-summary-jan-aug-2025-AN1446-ICT-consolidated.csv\")\n",
    "po_ref_23_25 = pd.concat([po_numbers_2023_ref, po_numbers_2024_ref, po_numbers_2025_ref], ignore_index=True)\n",
    "po_ref_stored = po_ref_23_25[\"OrderNumber\"].dropna().astype(\"Int64\").astype(\"str\").tolist()"
   ]
  },
  {
   "cell_type": "code",
   "execution_count": 5,
   "id": "629041be",
   "metadata": {},
   "outputs": [],
   "source": [
    "access_tblpo_2023.insert(0, \"row_num\", access_tblpo_2023.index + 1)\n",
    "access_tblpo_2023.insert(1, \"batch_load\", ld_add)"
   ]
  },
  {
   "cell_type": "code",
   "execution_count": 6,
   "id": "3f94c860",
   "metadata": {},
   "outputs": [
    {
     "data": {
      "text/plain": [
       "(758, 11)"
      ]
     },
     "execution_count": 6,
     "metadata": {},
     "output_type": "execute_result"
    }
   ],
   "source": [
    "access_tblpo_2023.shape"
   ]
  },
  {
   "cell_type": "code",
   "execution_count": 7,
   "id": "bbb33b15",
   "metadata": {},
   "outputs": [
    {
     "data": {
      "text/plain": [
       "row_num                    int64\n",
       "batch_load        datetime64[us]\n",
       "POID                       int64\n",
       "PONumber                  object\n",
       "ProjectID                  int64\n",
       "RaisedBy                  object\n",
       "Site                      object\n",
       "Notes                     object\n",
       "SSMA_TimeStamp           float64\n",
       "DateCreated       datetime64[ns]\n",
       "Alemba                    object\n",
       "dtype: object"
      ]
     },
     "execution_count": 7,
     "metadata": {},
     "output_type": "execute_result"
    }
   ],
   "source": [
    "access_tblpo_2023.dtypes"
   ]
  },
  {
   "cell_type": "code",
   "execution_count": 8,
   "id": "e74cc1d2",
   "metadata": {},
   "outputs": [
    {
     "data": {
      "text/plain": [
       "758"
      ]
     },
     "execution_count": 8,
     "metadata": {},
     "output_type": "execute_result"
    }
   ],
   "source": [
    "access_tblpo_2023[\"SSMA_TimeStamp\"].isna().sum()"
   ]
  },
  {
   "cell_type": "code",
   "execution_count": 9,
   "id": "306d34f5",
   "metadata": {},
   "outputs": [
    {
     "data": {
      "text/plain": [
       "631"
      ]
     },
     "execution_count": 9,
     "metadata": {},
     "output_type": "execute_result"
    }
   ],
   "source": [
    "access_tblpo_2024[\"SSMA_TimeStamp\"].isna().sum()"
   ]
  },
  {
   "cell_type": "code",
   "execution_count": 10,
   "id": "92bc80d8",
   "metadata": {},
   "outputs": [
    {
     "data": {
      "text/plain": [
       "295"
      ]
     },
     "execution_count": 10,
     "metadata": {},
     "output_type": "execute_result"
    }
   ],
   "source": [
    "access_tblpo_2025[\"SSMA_TimeStamp\"].isna().sum()"
   ]
  },
  {
   "cell_type": "code",
   "execution_count": 11,
   "id": "e3f1eab9",
   "metadata": {},
   "outputs": [
    {
     "ename": "ValueError",
     "evalue": "cannot insert batch_load, already exists",
     "output_type": "error",
     "traceback": [
      "\u001b[1;31m---------------------------------------------------------------------------\u001b[0m",
      "\u001b[1;31mValueError\u001b[0m                                Traceback (most recent call last)",
      "\u001b[1;32m~\\AppData\\Local\\Temp\\ipykernel_24080\\569568124.py\u001b[0m in \u001b[0;36m?\u001b[1;34m()\u001b[0m\n\u001b[1;32m----> 1\u001b[1;33m \u001b[0maccess_tblpo_2023\u001b[0m\u001b[1;33m.\u001b[0m\u001b[0minsert\u001b[0m\u001b[1;33m(\u001b[0m\u001b[1;36m1\u001b[0m\u001b[1;33m,\u001b[0m \u001b[1;34m\"batch_load\"\u001b[0m\u001b[1;33m,\u001b[0m \u001b[0mld_add\u001b[0m\u001b[1;33m)\u001b[0m\u001b[1;33m\u001b[0m\u001b[1;33m\u001b[0m\u001b[0m\n\u001b[0m\u001b[0;32m      2\u001b[0m \u001b[0maccess_tblpo_2024\u001b[0m\u001b[1;33m.\u001b[0m\u001b[0minsert\u001b[0m\u001b[1;33m(\u001b[0m\u001b[1;36m1\u001b[0m\u001b[1;33m,\u001b[0m \u001b[1;34m\"batch_load\"\u001b[0m\u001b[1;33m,\u001b[0m \u001b[0mld_add\u001b[0m\u001b[1;33m)\u001b[0m\u001b[1;33m\u001b[0m\u001b[1;33m\u001b[0m\u001b[0m\n\u001b[0;32m      3\u001b[0m \u001b[0maccess_tblpo_2025\u001b[0m\u001b[1;33m.\u001b[0m\u001b[0minsert\u001b[0m\u001b[1;33m(\u001b[0m\u001b[1;36m1\u001b[0m\u001b[1;33m,\u001b[0m \u001b[1;34m\"batch_load\"\u001b[0m\u001b[1;33m,\u001b[0m \u001b[0mld_add\u001b[0m\u001b[1;33m)\u001b[0m\u001b[1;33m\u001b[0m\u001b[1;33m\u001b[0m\u001b[0m\n",
      "\u001b[1;32mc:\\Users\\angel\\anaconda3\\Lib\\site-packages\\pandas\\core\\frame.py\u001b[0m in \u001b[0;36m?\u001b[1;34m(self, loc, column, value, allow_duplicates)\u001b[0m\n\u001b[0;32m   5141\u001b[0m                 \u001b[1;34m\"'self.flags.allows_duplicate_labels' is False.\"\u001b[0m\u001b[1;33m\u001b[0m\u001b[1;33m\u001b[0m\u001b[0m\n\u001b[0;32m   5142\u001b[0m             )\n\u001b[0;32m   5143\u001b[0m         \u001b[1;32mif\u001b[0m \u001b[1;32mnot\u001b[0m \u001b[0mallow_duplicates\u001b[0m \u001b[1;32mand\u001b[0m \u001b[0mcolumn\u001b[0m \u001b[1;32min\u001b[0m \u001b[0mself\u001b[0m\u001b[1;33m.\u001b[0m\u001b[0mcolumns\u001b[0m\u001b[1;33m:\u001b[0m\u001b[1;33m\u001b[0m\u001b[1;33m\u001b[0m\u001b[0m\n\u001b[0;32m   5144\u001b[0m             \u001b[1;31m# Should this be a different kind of error??\u001b[0m\u001b[1;33m\u001b[0m\u001b[1;33m\u001b[0m\u001b[0m\n\u001b[1;32m-> 5145\u001b[1;33m             \u001b[1;32mraise\u001b[0m \u001b[0mValueError\u001b[0m\u001b[1;33m(\u001b[0m\u001b[1;34mf\"cannot insert {column}, already exists\"\u001b[0m\u001b[1;33m)\u001b[0m\u001b[1;33m\u001b[0m\u001b[1;33m\u001b[0m\u001b[0m\n\u001b[0m\u001b[0;32m   5146\u001b[0m         \u001b[1;32mif\u001b[0m \u001b[1;32mnot\u001b[0m \u001b[0mis_integer\u001b[0m\u001b[1;33m(\u001b[0m\u001b[0mloc\u001b[0m\u001b[1;33m)\u001b[0m\u001b[1;33m:\u001b[0m\u001b[1;33m\u001b[0m\u001b[1;33m\u001b[0m\u001b[0m\n\u001b[0;32m   5147\u001b[0m             \u001b[1;32mraise\u001b[0m \u001b[0mTypeError\u001b[0m\u001b[1;33m(\u001b[0m\u001b[1;34m\"loc must be int\"\u001b[0m\u001b[1;33m)\u001b[0m\u001b[1;33m\u001b[0m\u001b[1;33m\u001b[0m\u001b[0m\n\u001b[0;32m   5148\u001b[0m         \u001b[1;31m# convert non stdlib ints to satisfy typing checks\u001b[0m\u001b[1;33m\u001b[0m\u001b[1;33m\u001b[0m\u001b[0m\n",
      "\u001b[1;31mValueError\u001b[0m: cannot insert batch_load, already exists"
     ]
    }
   ],
   "source": [
    "access_tblpo_2023.insert(1, \"batch_load\", ld_add)\n",
    "access_tblpo_2024.insert(1, \"batch_load\", ld_add)\n",
    "access_tblpo_2025.insert(1, \"batch_load\", ld_add)"
   ]
  },
  {
   "cell_type": "code",
   "execution_count": 12,
   "id": "cb10afab",
   "metadata": {},
   "outputs": [],
   "source": [
    "access_tblpo_23_25 = pd.concat([access_tblpo_2023, access_tblpo_2024, access_tblpo_2025], ignore_index=True)"
   ]
  },
  {
   "cell_type": "code",
   "execution_count": 13,
   "id": "314851b0",
   "metadata": {},
   "outputs": [
    {
     "ename": "ValueError",
     "evalue": "cannot insert batch_load, already exists",
     "output_type": "error",
     "traceback": [
      "\u001b[1;31m---------------------------------------------------------------------------\u001b[0m",
      "\u001b[1;31mValueError\u001b[0m                                Traceback (most recent call last)",
      "\u001b[1;32m~\\AppData\\Local\\Temp\\ipykernel_24080\\4166510180.py\u001b[0m in \u001b[0;36m?\u001b[1;34m()\u001b[0m\n\u001b[1;32m----> 1\u001b[1;33m \u001b[0maccess_tblpo_23_25\u001b[0m\u001b[1;33m.\u001b[0m\u001b[0minsert\u001b[0m\u001b[1;33m(\u001b[0m\u001b[1;36m1\u001b[0m\u001b[1;33m,\u001b[0m \u001b[1;34m\"batch_load\"\u001b[0m\u001b[1;33m,\u001b[0m \u001b[0mld_add\u001b[0m\u001b[1;33m)\u001b[0m\u001b[1;33m\u001b[0m\u001b[1;33m\u001b[0m\u001b[0m\n\u001b[0m",
      "\u001b[1;32mc:\\Users\\angel\\anaconda3\\Lib\\site-packages\\pandas\\core\\frame.py\u001b[0m in \u001b[0;36m?\u001b[1;34m(self, loc, column, value, allow_duplicates)\u001b[0m\n\u001b[0;32m   5141\u001b[0m                 \u001b[1;34m\"'self.flags.allows_duplicate_labels' is False.\"\u001b[0m\u001b[1;33m\u001b[0m\u001b[1;33m\u001b[0m\u001b[0m\n\u001b[0;32m   5142\u001b[0m             )\n\u001b[0;32m   5143\u001b[0m         \u001b[1;32mif\u001b[0m \u001b[1;32mnot\u001b[0m \u001b[0mallow_duplicates\u001b[0m \u001b[1;32mand\u001b[0m \u001b[0mcolumn\u001b[0m \u001b[1;32min\u001b[0m \u001b[0mself\u001b[0m\u001b[1;33m.\u001b[0m\u001b[0mcolumns\u001b[0m\u001b[1;33m:\u001b[0m\u001b[1;33m\u001b[0m\u001b[1;33m\u001b[0m\u001b[0m\n\u001b[0;32m   5144\u001b[0m             \u001b[1;31m# Should this be a different kind of error??\u001b[0m\u001b[1;33m\u001b[0m\u001b[1;33m\u001b[0m\u001b[0m\n\u001b[1;32m-> 5145\u001b[1;33m             \u001b[1;32mraise\u001b[0m \u001b[0mValueError\u001b[0m\u001b[1;33m(\u001b[0m\u001b[1;34mf\"cannot insert {column}, already exists\"\u001b[0m\u001b[1;33m)\u001b[0m\u001b[1;33m\u001b[0m\u001b[1;33m\u001b[0m\u001b[0m\n\u001b[0m\u001b[0;32m   5146\u001b[0m         \u001b[1;32mif\u001b[0m \u001b[1;32mnot\u001b[0m \u001b[0mis_integer\u001b[0m\u001b[1;33m(\u001b[0m\u001b[0mloc\u001b[0m\u001b[1;33m)\u001b[0m\u001b[1;33m:\u001b[0m\u001b[1;33m\u001b[0m\u001b[1;33m\u001b[0m\u001b[0m\n\u001b[0;32m   5147\u001b[0m             \u001b[1;32mraise\u001b[0m \u001b[0mTypeError\u001b[0m\u001b[1;33m(\u001b[0m\u001b[1;34m\"loc must be int\"\u001b[0m\u001b[1;33m)\u001b[0m\u001b[1;33m\u001b[0m\u001b[1;33m\u001b[0m\u001b[0m\n\u001b[0;32m   5148\u001b[0m         \u001b[1;31m# convert non stdlib ints to satisfy typing checks\u001b[0m\u001b[1;33m\u001b[0m\u001b[1;33m\u001b[0m\u001b[0m\n",
      "\u001b[1;31mValueError\u001b[0m: cannot insert batch_load, already exists"
     ]
    }
   ],
   "source": [
    "access_tblpo_23_25.insert(1, \"batch_load\", ld_add)"
   ]
  },
  {
   "cell_type": "code",
   "execution_count": 14,
   "id": "ec08cd6d",
   "metadata": {},
   "outputs": [],
   "source": [
    "parsed_access_tblpo_23_25 = access_tblpo_23_25.copy()"
   ]
  },
  {
   "cell_type": "code",
   "execution_count": 15,
   "id": "388b4263",
   "metadata": {},
   "outputs": [
    {
     "data": {
      "text/plain": [
       "row_num                  float64\n",
       "batch_load        datetime64[us]\n",
       "POID                       int64\n",
       "PONumber                  object\n",
       "ProjectID                  int64\n",
       "RaisedBy                  object\n",
       "Site                      object\n",
       "Notes                     object\n",
       "SSMA_TimeStamp           float64\n",
       "DateCreated       datetime64[ns]\n",
       "Alemba                    object\n",
       "dtype: object"
      ]
     },
     "execution_count": 15,
     "metadata": {},
     "output_type": "execute_result"
    }
   ],
   "source": [
    "parsed_access_tblpo_23_25.dtypes"
   ]
  },
  {
   "cell_type": "code",
   "execution_count": 16,
   "id": "bd7a147a",
   "metadata": {},
   "outputs": [],
   "source": [
    "parsed_access_tblpo_23_25[\"PONumber\"] = parsed_access_tblpo_23_25[\"PONumber\"].str.strip().replace(\"\", np.nan)\n",
    "parsed_access_tblpo_23_25[\"RaisedBy\"] = parsed_access_tblpo_23_25[\"RaisedBy\"].str.strip().replace(\"\", np.nan)\n",
    "parsed_access_tblpo_23_25[\"Site\"] = parsed_access_tblpo_23_25[\"Site\"].str.strip().replace(\"\", np.nan)\n",
    "parsed_access_tblpo_23_25[\"Notes\"] = parsed_access_tblpo_23_25[\"Notes\"].str.strip().replace(\"\", np.nan)\n",
    "parsed_access_tblpo_23_25[\"Alemba\"] = parsed_access_tblpo_23_25[\"Alemba\"].str.strip().replace(\"\", np.nan)\n",
    "parsed_access_tblpo_23_25[\"parsed_POID\"] = pd.to_numeric(parsed_access_tblpo_23_25[\"POID\"], errors=\"coerce\").astype(\"Int64\")\n",
    "parsed_access_tblpo_23_25[\"parsed_ProjectID\"] = pd.to_numeric(parsed_access_tblpo_23_25[\"ProjectID\"], errors=\"coerce\").astype(\"Int64\")"
   ]
  },
  {
   "cell_type": "code",
   "execution_count": 17,
   "id": "b67922a9",
   "metadata": {},
   "outputs": [
    {
     "data": {
      "text/plain": [
       "Index(['row_num', 'batch_load', 'POID', 'PONumber', 'ProjectID', 'RaisedBy',\n",
       "       'Site', 'Notes', 'SSMA_TimeStamp', 'DateCreated', 'Alemba',\n",
       "       'parsed_POID', 'parsed_ProjectID'],\n",
       "      dtype='object')"
      ]
     },
     "execution_count": 17,
     "metadata": {},
     "output_type": "execute_result"
    }
   ],
   "source": [
    "parsed_access_tblpo_23_25.columns"
   ]
  },
  {
   "cell_type": "code",
   "execution_count": 18,
   "id": "ff4aa8c3",
   "metadata": {},
   "outputs": [],
   "source": [
    "import datetime\n",
    "\n",
    "mandatory_fields = [\"parsed_POID\", \"PONumber\", \"parsed_ProjectID\", \"RaisedBy\", \"Site\", \"Notes\", \"DateCreated\", \"Alemba\"]\n",
    "source_system = \"ACCESS\"\n",
    "system_table = \"tblPO\"\n",
    "data_period = \"23-24 to 24-25\"\n",
    "date_checked = datetime.date.today()\n",
    "\n",
    "\n",
    "\n",
    "allowed_start_date = pd.to_datetime(\"2023-01-01\")\n",
    "allowed_end_date = pd.to_datetime(\"2025-08-11\")\n",
    "allowed_sites = [\"RLH\", \"WCH\", \"SBH\", \"MEH\", \"NUH\", \"WXH\"]"
   ]
  },
  {
   "cell_type": "code",
   "execution_count": 23,
   "id": "836121b1",
   "metadata": {},
   "outputs": [],
   "source": [
    "# tblPO errors\n",
    "\n",
    "summary_records = []\n",
    "for field in mandatory_fields:\n",
    "    missing_count = parsed_access_tblpo_23_25[field].isna().sum()\n",
    "    summary_records.append({\n",
    "        \"error_type\": \"Missing Field\",\n",
    "        \"source_system\": source_system,\n",
    "        \"system_table\": system_table,\n",
    "        \"data_period\": data_period,\n",
    "        \"date_checked\": date_checked,\n",
    "        \"field_name\": field,\n",
    "        \"error_count\": missing_count\n",
    "    })\n",
    "\n",
    "\n",
    "\n",
    "\n",
    "# format error / invalid format #revising tbc\n",
    "for field in mandatory_fields:\n",
    "    if not field.startswith(\"parsed_\"):\n",
    "        continue\n",
    "    raw_field = field.replace(\"parsed_\", \"\")\n",
    "    if field not in parsed_access_tblpo_23_25.columns or raw_field not in parsed_access_tblpo_23_25:\n",
    "        continue\n",
    "    format_error_count = parsed_access_tblpo_23_25[parsed_access_tblpo_23_25[raw_field].notna() & parsed_access_tblpo_23_25[field].isna()].shape[0]\n",
    "    summary_records.append({\n",
    "        \"error_type\": \"Invalid Format\",\n",
    "        \"source_system\": source_system,\n",
    "        \"system_table\": system_table,\n",
    "        \"data_period\": data_period,\n",
    "        \"date_checked\": date_checked,\n",
    "        \"field_name\": field,\n",
    "        \"error_count\": format_error_count\n",
    "    })\n",
    "\n",
    "\n",
    "\n",
    "# out of range error - site\n",
    "out_of_range_site_count = parsed_access_tblpo_23_25[\n",
    "    parsed_access_tblpo_23_25[\"Site\"].notna() &\n",
    "    ~parsed_access_tblpo_23_25[\"Site\"].isin(allowed_sites)].shape[0]\n",
    "\n",
    "summary_records.append({\n",
    "    \"error_type\": \"Out of Range Values\",\n",
    "    \"source_system\": source_system,\n",
    "    \"system_table\": system_table,\n",
    "    \"data_period\": data_period,\n",
    "    \"date_checked\": date_checked,\n",
    "    \"field_name\": \"Site\",\n",
    "    \"error_count\": out_of_range_site_count\n",
    "})\n",
    "\n",
    "\n",
    "\n",
    "# out of range error - date created / date entry\n",
    "\n",
    "out_of_range_date_count = parsed_access_tblpo_23_25[parsed_access_tblpo_23_25[\"DateCreated\"].notna() &\n",
    "(\n",
    "    (parsed_access_tblpo_23_25[\"DateCreated\"] < allowed_start_date) |\n",
    "    (parsed_access_tblpo_23_25[\"DateCreated\"] > allowed_end_date)\n",
    ")].shape[0]\n",
    "\n",
    "summary_records.append({\n",
    "    \"error_type\": \"Out of Range Dates\",\n",
    "    \"source_system\": source_system,\n",
    "    \"system_table\": system_table,\n",
    "    \"data_period\": data_period,\n",
    "    \"date_checked\": date_checked,\n",
    "    \"field_name\": \"DateCreated\",\n",
    "    \"error_count\": out_of_range_date_count\n",
    "})\n",
    "\n",
    "\n",
    "\n",
    "# Duplicate PO numbers - flag this as well just in case there's need to revise or amend in data entry process\n",
    "\n",
    "df_a = parsed_access_tblpo_23_25\n",
    "po = \"PONumber\"\n",
    "duplicate_count_po = df_a[po].dropna().duplicated().sum()\n",
    "\n",
    "if duplicate_count_po > 0:\n",
    "    summary_records.append({\n",
    "    \"error_type\": \"Duplicate PO Number\",\n",
    "    \"source_system\": source_system,\n",
    "    \"system_table\": system_table,\n",
    "    \"data_period\": data_period,\n",
    "    \"date_checked\": date_checked,\n",
    "    \"field_name\": \"PONumber\",\n",
    "    \"error_count\": duplicate_count_po\n",
    "    })\n",
    "\n",
    "\n",
    "# Unexpected Value - PO doesnt exist in oracle data list fo PO orders\n",
    "# set format rule or refer to PO numbers oracle? TBC\n",
    "\n",
    "\n",
    "\n",
    "maskfilter_ordernum = ~parsed_access_tblpo_23_25[\"PONumber\"].isin(po_ref_stored)\n",
    "\n",
    "unexpected_ordernum_count = parsed_access_tblpo_23_25.loc[\n",
    "    maskfilter_ordernum & parsed_access_tblpo_23_25[\"PONumber\"].notna()].shape[0]\n",
    "\n",
    "if unexpected_ordernum_count > 0:\n",
    "    summary_records.append({\n",
    "    \"error_type\": \"Unexpected PO Number\",\n",
    "    \"source_system\": source_system,\n",
    "    \"system_table\": system_table,\n",
    "    \"data_period\": data_period,\n",
    "    \"date_checked\": date_checked,\n",
    "    \"field_name\": \"PONumber\",\n",
    "    \"error_count\": unexpected_ordernum_count\n",
    "    })"
   ]
  },
  {
   "cell_type": "code",
   "execution_count": 24,
   "id": "d3c6c2cb",
   "metadata": {},
   "outputs": [
    {
     "data": {
      "text/plain": [
       "219"
      ]
     },
     "execution_count": 24,
     "metadata": {},
     "output_type": "execute_result"
    }
   ],
   "source": [
    "parsed_access_tblpo_23_25['PONumber'].duplicated().sum()"
   ]
  },
  {
   "cell_type": "code",
   "execution_count": 25,
   "id": "d70a9c6a",
   "metadata": {},
   "outputs": [
    {
     "data": {
      "text/plain": [
       "189"
      ]
     },
     "execution_count": 25,
     "metadata": {},
     "output_type": "execute_result"
    }
   ],
   "source": [
    "parsed_access_tblpo_23_25['PONumber'].dropna().duplicated().sum()"
   ]
  },
  {
   "cell_type": "code",
   "execution_count": 26,
   "id": "c46b5a62",
   "metadata": {},
   "outputs": [
    {
     "data": {
      "text/plain": [
       "0"
      ]
     },
     "execution_count": 26,
     "metadata": {},
     "output_type": "execute_result"
    }
   ],
   "source": [
    "format_error_count"
   ]
  },
  {
   "cell_type": "code",
   "execution_count": 27,
   "id": "321aa280",
   "metadata": {},
   "outputs": [
    {
     "data": {
      "text/plain": [
       "349"
      ]
     },
     "execution_count": 27,
     "metadata": {},
     "output_type": "execute_result"
    }
   ],
   "source": [
    "unexpected_ordernum_count"
   ]
  },
  {
   "cell_type": "code",
   "execution_count": 32,
   "id": "56fa02c3",
   "metadata": {},
   "outputs": [],
   "source": [
    "error_summary_access_tblpo = pd.DataFrame(summary_records)\n",
    "\n",
    "\n",
    "\n",
    "\n",
    "\n",
    "error_summary_access_tblpo[\"field_name\"] = error_summary_access_tblpo[\"field_name\"].str.replace(r\"^parsed_\", \"\", regex=True)\n",
    "\n",
    "\n",
    "\n",
    "error_summary_access_tblpo = error_summary_access_tblpo[error_summary_access_tblpo[\"error_count\"] > 0]"
   ]
  },
  {
   "cell_type": "code",
   "execution_count": 33,
   "id": "065e84da",
   "metadata": {},
   "outputs": [
    {
     "data": {
      "text/html": [
       "<div>\n",
       "<style scoped>\n",
       "    .dataframe tbody tr th:only-of-type {\n",
       "        vertical-align: middle;\n",
       "    }\n",
       "\n",
       "    .dataframe tbody tr th {\n",
       "        vertical-align: top;\n",
       "    }\n",
       "\n",
       "    .dataframe thead th {\n",
       "        text-align: right;\n",
       "    }\n",
       "</style>\n",
       "<table border=\"1\" class=\"dataframe\">\n",
       "  <thead>\n",
       "    <tr style=\"text-align: right;\">\n",
       "      <th></th>\n",
       "      <th>error_type</th>\n",
       "      <th>source_system</th>\n",
       "      <th>system_table</th>\n",
       "      <th>data_period</th>\n",
       "      <th>date_checked</th>\n",
       "      <th>field_name</th>\n",
       "      <th>error_count</th>\n",
       "    </tr>\n",
       "  </thead>\n",
       "  <tbody>\n",
       "    <tr>\n",
       "      <th>1</th>\n",
       "      <td>Missing Field</td>\n",
       "      <td>ACCESS</td>\n",
       "      <td>tblPO</td>\n",
       "      <td>23-24 to 24-25</td>\n",
       "      <td>2025-09-21</td>\n",
       "      <td>PONumber</td>\n",
       "      <td>31</td>\n",
       "    </tr>\n",
       "    <tr>\n",
       "      <th>3</th>\n",
       "      <td>Missing Field</td>\n",
       "      <td>ACCESS</td>\n",
       "      <td>tblPO</td>\n",
       "      <td>23-24 to 24-25</td>\n",
       "      <td>2025-09-21</td>\n",
       "      <td>RaisedBy</td>\n",
       "      <td>39</td>\n",
       "    </tr>\n",
       "    <tr>\n",
       "      <th>4</th>\n",
       "      <td>Missing Field</td>\n",
       "      <td>ACCESS</td>\n",
       "      <td>tblPO</td>\n",
       "      <td>23-24 to 24-25</td>\n",
       "      <td>2025-09-21</td>\n",
       "      <td>Site</td>\n",
       "      <td>516</td>\n",
       "    </tr>\n",
       "    <tr>\n",
       "      <th>5</th>\n",
       "      <td>Missing Field</td>\n",
       "      <td>ACCESS</td>\n",
       "      <td>tblPO</td>\n",
       "      <td>23-24 to 24-25</td>\n",
       "      <td>2025-09-21</td>\n",
       "      <td>Notes</td>\n",
       "      <td>764</td>\n",
       "    </tr>\n",
       "    <tr>\n",
       "      <th>7</th>\n",
       "      <td>Missing Field</td>\n",
       "      <td>ACCESS</td>\n",
       "      <td>tblPO</td>\n",
       "      <td>23-24 to 24-25</td>\n",
       "      <td>2025-09-21</td>\n",
       "      <td>Alemba</td>\n",
       "      <td>477</td>\n",
       "    </tr>\n",
       "    <tr>\n",
       "      <th>10</th>\n",
       "      <td>Out of Range Values</td>\n",
       "      <td>ACCESS</td>\n",
       "      <td>tblPO</td>\n",
       "      <td>23-24 to 24-25</td>\n",
       "      <td>2025-09-21</td>\n",
       "      <td>Site</td>\n",
       "      <td>85</td>\n",
       "    </tr>\n",
       "    <tr>\n",
       "      <th>12</th>\n",
       "      <td>Duplicate PO Number</td>\n",
       "      <td>ACCESS</td>\n",
       "      <td>tblPO</td>\n",
       "      <td>23-24 to 24-25</td>\n",
       "      <td>2025-09-21</td>\n",
       "      <td>PONumber</td>\n",
       "      <td>189</td>\n",
       "    </tr>\n",
       "    <tr>\n",
       "      <th>13</th>\n",
       "      <td>Unexpected PO Number</td>\n",
       "      <td>ACCESS</td>\n",
       "      <td>tblPO</td>\n",
       "      <td>23-24 to 24-25</td>\n",
       "      <td>2025-09-21</td>\n",
       "      <td>PONumber</td>\n",
       "      <td>349</td>\n",
       "    </tr>\n",
       "  </tbody>\n",
       "</table>\n",
       "</div>"
      ],
      "text/plain": [
       "              error_type source_system system_table     data_period  \\\n",
       "1          Missing Field        ACCESS        tblPO  23-24 to 24-25   \n",
       "3          Missing Field        ACCESS        tblPO  23-24 to 24-25   \n",
       "4          Missing Field        ACCESS        tblPO  23-24 to 24-25   \n",
       "5          Missing Field        ACCESS        tblPO  23-24 to 24-25   \n",
       "7          Missing Field        ACCESS        tblPO  23-24 to 24-25   \n",
       "10   Out of Range Values        ACCESS        tblPO  23-24 to 24-25   \n",
       "12   Duplicate PO Number        ACCESS        tblPO  23-24 to 24-25   \n",
       "13  Unexpected PO Number        ACCESS        tblPO  23-24 to 24-25   \n",
       "\n",
       "   date_checked field_name  error_count  \n",
       "1    2025-09-21   PONumber           31  \n",
       "3    2025-09-21   RaisedBy           39  \n",
       "4    2025-09-21       Site          516  \n",
       "5    2025-09-21      Notes          764  \n",
       "7    2025-09-21     Alemba          477  \n",
       "10   2025-09-21       Site           85  \n",
       "12   2025-09-21   PONumber          189  \n",
       "13   2025-09-21   PONumber          349  "
      ]
     },
     "execution_count": 33,
     "metadata": {},
     "output_type": "execute_result"
    }
   ],
   "source": [
    "error_summary_access_tblpo"
   ]
  },
  {
   "cell_type": "code",
   "execution_count": 34,
   "id": "e112061e",
   "metadata": {},
   "outputs": [],
   "source": [
    "error_summary_access_tblpo.to_csv(\"tblpo_access_error_report.csv\", index=False)"
   ]
  }
 ],
 "metadata": {
  "kernelspec": {
   "display_name": "base",
   "language": "python",
   "name": "python3"
  },
  "language_info": {
   "codemirror_mode": {
    "name": "ipython",
    "version": 3
   },
   "file_extension": ".py",
   "mimetype": "text/x-python",
   "name": "python",
   "nbconvert_exporter": "python",
   "pygments_lexer": "ipython3",
   "version": "3.11.5"
  }
 },
 "nbformat": 4,
 "nbformat_minor": 5
}
